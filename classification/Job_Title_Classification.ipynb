{
  "nbformat": 4,
  "nbformat_minor": 0,
  "metadata": {
    "colab": {
      "provenance": [],
      "gpuType": "T4"
    },
    "kernelspec": {
      "name": "python3",
      "display_name": "Python 3"
    },
    "language_info": {
      "name": "python"
    },
    "accelerator": "GPU",
    "widgets": {
      "application/vnd.jupyter.widget-state+json": {
        "870592ee4bf24f808983c4dda41cd715": {
          "model_module": "@jupyter-widgets/controls",
          "model_name": "HBoxModel",
          "model_module_version": "1.5.0",
          "state": {
            "_dom_classes": [],
            "_model_module": "@jupyter-widgets/controls",
            "_model_module_version": "1.5.0",
            "_model_name": "HBoxModel",
            "_view_count": null,
            "_view_module": "@jupyter-widgets/controls",
            "_view_module_version": "1.5.0",
            "_view_name": "HBoxView",
            "box_style": "",
            "children": [
              "IPY_MODEL_3f486380e91f4e1dbcfbb0630fc19256",
              "IPY_MODEL_f09c4be814b249768a88aedb03b3d9c9",
              "IPY_MODEL_0dc77e24d0d94b63803cc1df8168eaa6"
            ],
            "layout": "IPY_MODEL_d080268780d94d03a21c7e61b6b81e62"
          }
        },
        "3f486380e91f4e1dbcfbb0630fc19256": {
          "model_module": "@jupyter-widgets/controls",
          "model_name": "HTMLModel",
          "model_module_version": "1.5.0",
          "state": {
            "_dom_classes": [],
            "_model_module": "@jupyter-widgets/controls",
            "_model_module_version": "1.5.0",
            "_model_name": "HTMLModel",
            "_view_count": null,
            "_view_module": "@jupyter-widgets/controls",
            "_view_module_version": "1.5.0",
            "_view_name": "HTMLView",
            "description": "",
            "description_tooltip": null,
            "layout": "IPY_MODEL_461baf9b91d844f0a7197a88c786687b",
            "placeholder": "​",
            "style": "IPY_MODEL_d70b43838c184573a16af160f858831f",
            "value": "Downloading (…)olve/main/vocab.json: 100%"
          }
        },
        "f09c4be814b249768a88aedb03b3d9c9": {
          "model_module": "@jupyter-widgets/controls",
          "model_name": "FloatProgressModel",
          "model_module_version": "1.5.0",
          "state": {
            "_dom_classes": [],
            "_model_module": "@jupyter-widgets/controls",
            "_model_module_version": "1.5.0",
            "_model_name": "FloatProgressModel",
            "_view_count": null,
            "_view_module": "@jupyter-widgets/controls",
            "_view_module_version": "1.5.0",
            "_view_name": "ProgressView",
            "bar_style": "success",
            "description": "",
            "description_tooltip": null,
            "layout": "IPY_MODEL_41c75fb677ed480bb4558d25e8a6f7e6",
            "max": 898823,
            "min": 0,
            "orientation": "horizontal",
            "style": "IPY_MODEL_372d16a22c1247b190e193d4dc38d5c4",
            "value": 898823
          }
        },
        "0dc77e24d0d94b63803cc1df8168eaa6": {
          "model_module": "@jupyter-widgets/controls",
          "model_name": "HTMLModel",
          "model_module_version": "1.5.0",
          "state": {
            "_dom_classes": [],
            "_model_module": "@jupyter-widgets/controls",
            "_model_module_version": "1.5.0",
            "_model_name": "HTMLModel",
            "_view_count": null,
            "_view_module": "@jupyter-widgets/controls",
            "_view_module_version": "1.5.0",
            "_view_name": "HTMLView",
            "description": "",
            "description_tooltip": null,
            "layout": "IPY_MODEL_7a664e4b717147318ad018111b2f7621",
            "placeholder": "​",
            "style": "IPY_MODEL_58ac5682070945138cd1c9d6c48fee69",
            "value": " 899k/899k [00:00&lt;00:00, 5.27MB/s]"
          }
        },
        "d080268780d94d03a21c7e61b6b81e62": {
          "model_module": "@jupyter-widgets/base",
          "model_name": "LayoutModel",
          "model_module_version": "1.2.0",
          "state": {
            "_model_module": "@jupyter-widgets/base",
            "_model_module_version": "1.2.0",
            "_model_name": "LayoutModel",
            "_view_count": null,
            "_view_module": "@jupyter-widgets/base",
            "_view_module_version": "1.2.0",
            "_view_name": "LayoutView",
            "align_content": null,
            "align_items": null,
            "align_self": null,
            "border": null,
            "bottom": null,
            "display": null,
            "flex": null,
            "flex_flow": null,
            "grid_area": null,
            "grid_auto_columns": null,
            "grid_auto_flow": null,
            "grid_auto_rows": null,
            "grid_column": null,
            "grid_gap": null,
            "grid_row": null,
            "grid_template_areas": null,
            "grid_template_columns": null,
            "grid_template_rows": null,
            "height": null,
            "justify_content": null,
            "justify_items": null,
            "left": null,
            "margin": null,
            "max_height": null,
            "max_width": null,
            "min_height": null,
            "min_width": null,
            "object_fit": null,
            "object_position": null,
            "order": null,
            "overflow": null,
            "overflow_x": null,
            "overflow_y": null,
            "padding": null,
            "right": null,
            "top": null,
            "visibility": null,
            "width": null
          }
        },
        "461baf9b91d844f0a7197a88c786687b": {
          "model_module": "@jupyter-widgets/base",
          "model_name": "LayoutModel",
          "model_module_version": "1.2.0",
          "state": {
            "_model_module": "@jupyter-widgets/base",
            "_model_module_version": "1.2.0",
            "_model_name": "LayoutModel",
            "_view_count": null,
            "_view_module": "@jupyter-widgets/base",
            "_view_module_version": "1.2.0",
            "_view_name": "LayoutView",
            "align_content": null,
            "align_items": null,
            "align_self": null,
            "border": null,
            "bottom": null,
            "display": null,
            "flex": null,
            "flex_flow": null,
            "grid_area": null,
            "grid_auto_columns": null,
            "grid_auto_flow": null,
            "grid_auto_rows": null,
            "grid_column": null,
            "grid_gap": null,
            "grid_row": null,
            "grid_template_areas": null,
            "grid_template_columns": null,
            "grid_template_rows": null,
            "height": null,
            "justify_content": null,
            "justify_items": null,
            "left": null,
            "margin": null,
            "max_height": null,
            "max_width": null,
            "min_height": null,
            "min_width": null,
            "object_fit": null,
            "object_position": null,
            "order": null,
            "overflow": null,
            "overflow_x": null,
            "overflow_y": null,
            "padding": null,
            "right": null,
            "top": null,
            "visibility": null,
            "width": null
          }
        },
        "d70b43838c184573a16af160f858831f": {
          "model_module": "@jupyter-widgets/controls",
          "model_name": "DescriptionStyleModel",
          "model_module_version": "1.5.0",
          "state": {
            "_model_module": "@jupyter-widgets/controls",
            "_model_module_version": "1.5.0",
            "_model_name": "DescriptionStyleModel",
            "_view_count": null,
            "_view_module": "@jupyter-widgets/base",
            "_view_module_version": "1.2.0",
            "_view_name": "StyleView",
            "description_width": ""
          }
        },
        "41c75fb677ed480bb4558d25e8a6f7e6": {
          "model_module": "@jupyter-widgets/base",
          "model_name": "LayoutModel",
          "model_module_version": "1.2.0",
          "state": {
            "_model_module": "@jupyter-widgets/base",
            "_model_module_version": "1.2.0",
            "_model_name": "LayoutModel",
            "_view_count": null,
            "_view_module": "@jupyter-widgets/base",
            "_view_module_version": "1.2.0",
            "_view_name": "LayoutView",
            "align_content": null,
            "align_items": null,
            "align_self": null,
            "border": null,
            "bottom": null,
            "display": null,
            "flex": null,
            "flex_flow": null,
            "grid_area": null,
            "grid_auto_columns": null,
            "grid_auto_flow": null,
            "grid_auto_rows": null,
            "grid_column": null,
            "grid_gap": null,
            "grid_row": null,
            "grid_template_areas": null,
            "grid_template_columns": null,
            "grid_template_rows": null,
            "height": null,
            "justify_content": null,
            "justify_items": null,
            "left": null,
            "margin": null,
            "max_height": null,
            "max_width": null,
            "min_height": null,
            "min_width": null,
            "object_fit": null,
            "object_position": null,
            "order": null,
            "overflow": null,
            "overflow_x": null,
            "overflow_y": null,
            "padding": null,
            "right": null,
            "top": null,
            "visibility": null,
            "width": null
          }
        },
        "372d16a22c1247b190e193d4dc38d5c4": {
          "model_module": "@jupyter-widgets/controls",
          "model_name": "ProgressStyleModel",
          "model_module_version": "1.5.0",
          "state": {
            "_model_module": "@jupyter-widgets/controls",
            "_model_module_version": "1.5.0",
            "_model_name": "ProgressStyleModel",
            "_view_count": null,
            "_view_module": "@jupyter-widgets/base",
            "_view_module_version": "1.2.0",
            "_view_name": "StyleView",
            "bar_color": null,
            "description_width": ""
          }
        },
        "7a664e4b717147318ad018111b2f7621": {
          "model_module": "@jupyter-widgets/base",
          "model_name": "LayoutModel",
          "model_module_version": "1.2.0",
          "state": {
            "_model_module": "@jupyter-widgets/base",
            "_model_module_version": "1.2.0",
            "_model_name": "LayoutModel",
            "_view_count": null,
            "_view_module": "@jupyter-widgets/base",
            "_view_module_version": "1.2.0",
            "_view_name": "LayoutView",
            "align_content": null,
            "align_items": null,
            "align_self": null,
            "border": null,
            "bottom": null,
            "display": null,
            "flex": null,
            "flex_flow": null,
            "grid_area": null,
            "grid_auto_columns": null,
            "grid_auto_flow": null,
            "grid_auto_rows": null,
            "grid_column": null,
            "grid_gap": null,
            "grid_row": null,
            "grid_template_areas": null,
            "grid_template_columns": null,
            "grid_template_rows": null,
            "height": null,
            "justify_content": null,
            "justify_items": null,
            "left": null,
            "margin": null,
            "max_height": null,
            "max_width": null,
            "min_height": null,
            "min_width": null,
            "object_fit": null,
            "object_position": null,
            "order": null,
            "overflow": null,
            "overflow_x": null,
            "overflow_y": null,
            "padding": null,
            "right": null,
            "top": null,
            "visibility": null,
            "width": null
          }
        },
        "58ac5682070945138cd1c9d6c48fee69": {
          "model_module": "@jupyter-widgets/controls",
          "model_name": "DescriptionStyleModel",
          "model_module_version": "1.5.0",
          "state": {
            "_model_module": "@jupyter-widgets/controls",
            "_model_module_version": "1.5.0",
            "_model_name": "DescriptionStyleModel",
            "_view_count": null,
            "_view_module": "@jupyter-widgets/base",
            "_view_module_version": "1.2.0",
            "_view_name": "StyleView",
            "description_width": ""
          }
        },
        "68ed34031b6b47d88d3a29ac19579229": {
          "model_module": "@jupyter-widgets/controls",
          "model_name": "HBoxModel",
          "model_module_version": "1.5.0",
          "state": {
            "_dom_classes": [],
            "_model_module": "@jupyter-widgets/controls",
            "_model_module_version": "1.5.0",
            "_model_name": "HBoxModel",
            "_view_count": null,
            "_view_module": "@jupyter-widgets/controls",
            "_view_module_version": "1.5.0",
            "_view_name": "HBoxView",
            "box_style": "",
            "children": [
              "IPY_MODEL_782b7d5e0df74d638356ef7ccf737c7c",
              "IPY_MODEL_dd9dfc4953864bc4ae7c9ca433626465",
              "IPY_MODEL_e1ca4b26f64c4327bbd1e94c305eca4e"
            ],
            "layout": "IPY_MODEL_6768067b3b504fd8b2f271f049dd5691"
          }
        },
        "782b7d5e0df74d638356ef7ccf737c7c": {
          "model_module": "@jupyter-widgets/controls",
          "model_name": "HTMLModel",
          "model_module_version": "1.5.0",
          "state": {
            "_dom_classes": [],
            "_model_module": "@jupyter-widgets/controls",
            "_model_module_version": "1.5.0",
            "_model_name": "HTMLModel",
            "_view_count": null,
            "_view_module": "@jupyter-widgets/controls",
            "_view_module_version": "1.5.0",
            "_view_name": "HTMLView",
            "description": "",
            "description_tooltip": null,
            "layout": "IPY_MODEL_66ef0e5b115449fba937a80b71edc8b6",
            "placeholder": "​",
            "style": "IPY_MODEL_f41481273f78497a82ad0e28e5a83b6e",
            "value": "Downloading (…)olve/main/merges.txt: 100%"
          }
        },
        "dd9dfc4953864bc4ae7c9ca433626465": {
          "model_module": "@jupyter-widgets/controls",
          "model_name": "FloatProgressModel",
          "model_module_version": "1.5.0",
          "state": {
            "_dom_classes": [],
            "_model_module": "@jupyter-widgets/controls",
            "_model_module_version": "1.5.0",
            "_model_name": "FloatProgressModel",
            "_view_count": null,
            "_view_module": "@jupyter-widgets/controls",
            "_view_module_version": "1.5.0",
            "_view_name": "ProgressView",
            "bar_style": "success",
            "description": "",
            "description_tooltip": null,
            "layout": "IPY_MODEL_ac32174ddbc0424593bb8d085a506337",
            "max": 456318,
            "min": 0,
            "orientation": "horizontal",
            "style": "IPY_MODEL_b53356f160ec4cb791506e3046db3575",
            "value": 456318
          }
        },
        "e1ca4b26f64c4327bbd1e94c305eca4e": {
          "model_module": "@jupyter-widgets/controls",
          "model_name": "HTMLModel",
          "model_module_version": "1.5.0",
          "state": {
            "_dom_classes": [],
            "_model_module": "@jupyter-widgets/controls",
            "_model_module_version": "1.5.0",
            "_model_name": "HTMLModel",
            "_view_count": null,
            "_view_module": "@jupyter-widgets/controls",
            "_view_module_version": "1.5.0",
            "_view_name": "HTMLView",
            "description": "",
            "description_tooltip": null,
            "layout": "IPY_MODEL_b3f1f27a3a304c9b9dd0c51ec42dba70",
            "placeholder": "​",
            "style": "IPY_MODEL_16754333974747e6979ba27b48348942",
            "value": " 456k/456k [00:00&lt;00:00, 5.90MB/s]"
          }
        },
        "6768067b3b504fd8b2f271f049dd5691": {
          "model_module": "@jupyter-widgets/base",
          "model_name": "LayoutModel",
          "model_module_version": "1.2.0",
          "state": {
            "_model_module": "@jupyter-widgets/base",
            "_model_module_version": "1.2.0",
            "_model_name": "LayoutModel",
            "_view_count": null,
            "_view_module": "@jupyter-widgets/base",
            "_view_module_version": "1.2.0",
            "_view_name": "LayoutView",
            "align_content": null,
            "align_items": null,
            "align_self": null,
            "border": null,
            "bottom": null,
            "display": null,
            "flex": null,
            "flex_flow": null,
            "grid_area": null,
            "grid_auto_columns": null,
            "grid_auto_flow": null,
            "grid_auto_rows": null,
            "grid_column": null,
            "grid_gap": null,
            "grid_row": null,
            "grid_template_areas": null,
            "grid_template_columns": null,
            "grid_template_rows": null,
            "height": null,
            "justify_content": null,
            "justify_items": null,
            "left": null,
            "margin": null,
            "max_height": null,
            "max_width": null,
            "min_height": null,
            "min_width": null,
            "object_fit": null,
            "object_position": null,
            "order": null,
            "overflow": null,
            "overflow_x": null,
            "overflow_y": null,
            "padding": null,
            "right": null,
            "top": null,
            "visibility": null,
            "width": null
          }
        },
        "66ef0e5b115449fba937a80b71edc8b6": {
          "model_module": "@jupyter-widgets/base",
          "model_name": "LayoutModel",
          "model_module_version": "1.2.0",
          "state": {
            "_model_module": "@jupyter-widgets/base",
            "_model_module_version": "1.2.0",
            "_model_name": "LayoutModel",
            "_view_count": null,
            "_view_module": "@jupyter-widgets/base",
            "_view_module_version": "1.2.0",
            "_view_name": "LayoutView",
            "align_content": null,
            "align_items": null,
            "align_self": null,
            "border": null,
            "bottom": null,
            "display": null,
            "flex": null,
            "flex_flow": null,
            "grid_area": null,
            "grid_auto_columns": null,
            "grid_auto_flow": null,
            "grid_auto_rows": null,
            "grid_column": null,
            "grid_gap": null,
            "grid_row": null,
            "grid_template_areas": null,
            "grid_template_columns": null,
            "grid_template_rows": null,
            "height": null,
            "justify_content": null,
            "justify_items": null,
            "left": null,
            "margin": null,
            "max_height": null,
            "max_width": null,
            "min_height": null,
            "min_width": null,
            "object_fit": null,
            "object_position": null,
            "order": null,
            "overflow": null,
            "overflow_x": null,
            "overflow_y": null,
            "padding": null,
            "right": null,
            "top": null,
            "visibility": null,
            "width": null
          }
        },
        "f41481273f78497a82ad0e28e5a83b6e": {
          "model_module": "@jupyter-widgets/controls",
          "model_name": "DescriptionStyleModel",
          "model_module_version": "1.5.0",
          "state": {
            "_model_module": "@jupyter-widgets/controls",
            "_model_module_version": "1.5.0",
            "_model_name": "DescriptionStyleModel",
            "_view_count": null,
            "_view_module": "@jupyter-widgets/base",
            "_view_module_version": "1.2.0",
            "_view_name": "StyleView",
            "description_width": ""
          }
        },
        "ac32174ddbc0424593bb8d085a506337": {
          "model_module": "@jupyter-widgets/base",
          "model_name": "LayoutModel",
          "model_module_version": "1.2.0",
          "state": {
            "_model_module": "@jupyter-widgets/base",
            "_model_module_version": "1.2.0",
            "_model_name": "LayoutModel",
            "_view_count": null,
            "_view_module": "@jupyter-widgets/base",
            "_view_module_version": "1.2.0",
            "_view_name": "LayoutView",
            "align_content": null,
            "align_items": null,
            "align_self": null,
            "border": null,
            "bottom": null,
            "display": null,
            "flex": null,
            "flex_flow": null,
            "grid_area": null,
            "grid_auto_columns": null,
            "grid_auto_flow": null,
            "grid_auto_rows": null,
            "grid_column": null,
            "grid_gap": null,
            "grid_row": null,
            "grid_template_areas": null,
            "grid_template_columns": null,
            "grid_template_rows": null,
            "height": null,
            "justify_content": null,
            "justify_items": null,
            "left": null,
            "margin": null,
            "max_height": null,
            "max_width": null,
            "min_height": null,
            "min_width": null,
            "object_fit": null,
            "object_position": null,
            "order": null,
            "overflow": null,
            "overflow_x": null,
            "overflow_y": null,
            "padding": null,
            "right": null,
            "top": null,
            "visibility": null,
            "width": null
          }
        },
        "b53356f160ec4cb791506e3046db3575": {
          "model_module": "@jupyter-widgets/controls",
          "model_name": "ProgressStyleModel",
          "model_module_version": "1.5.0",
          "state": {
            "_model_module": "@jupyter-widgets/controls",
            "_model_module_version": "1.5.0",
            "_model_name": "ProgressStyleModel",
            "_view_count": null,
            "_view_module": "@jupyter-widgets/base",
            "_view_module_version": "1.2.0",
            "_view_name": "StyleView",
            "bar_color": null,
            "description_width": ""
          }
        },
        "b3f1f27a3a304c9b9dd0c51ec42dba70": {
          "model_module": "@jupyter-widgets/base",
          "model_name": "LayoutModel",
          "model_module_version": "1.2.0",
          "state": {
            "_model_module": "@jupyter-widgets/base",
            "_model_module_version": "1.2.0",
            "_model_name": "LayoutModel",
            "_view_count": null,
            "_view_module": "@jupyter-widgets/base",
            "_view_module_version": "1.2.0",
            "_view_name": "LayoutView",
            "align_content": null,
            "align_items": null,
            "align_self": null,
            "border": null,
            "bottom": null,
            "display": null,
            "flex": null,
            "flex_flow": null,
            "grid_area": null,
            "grid_auto_columns": null,
            "grid_auto_flow": null,
            "grid_auto_rows": null,
            "grid_column": null,
            "grid_gap": null,
            "grid_row": null,
            "grid_template_areas": null,
            "grid_template_columns": null,
            "grid_template_rows": null,
            "height": null,
            "justify_content": null,
            "justify_items": null,
            "left": null,
            "margin": null,
            "max_height": null,
            "max_width": null,
            "min_height": null,
            "min_width": null,
            "object_fit": null,
            "object_position": null,
            "order": null,
            "overflow": null,
            "overflow_x": null,
            "overflow_y": null,
            "padding": null,
            "right": null,
            "top": null,
            "visibility": null,
            "width": null
          }
        },
        "16754333974747e6979ba27b48348942": {
          "model_module": "@jupyter-widgets/controls",
          "model_name": "DescriptionStyleModel",
          "model_module_version": "1.5.0",
          "state": {
            "_model_module": "@jupyter-widgets/controls",
            "_model_module_version": "1.5.0",
            "_model_name": "DescriptionStyleModel",
            "_view_count": null,
            "_view_module": "@jupyter-widgets/base",
            "_view_module_version": "1.2.0",
            "_view_name": "StyleView",
            "description_width": ""
          }
        },
        "3c37aa8b258544938095b70bb6e598b7": {
          "model_module": "@jupyter-widgets/controls",
          "model_name": "HBoxModel",
          "model_module_version": "1.5.0",
          "state": {
            "_dom_classes": [],
            "_model_module": "@jupyter-widgets/controls",
            "_model_module_version": "1.5.0",
            "_model_name": "HBoxModel",
            "_view_count": null,
            "_view_module": "@jupyter-widgets/controls",
            "_view_module_version": "1.5.0",
            "_view_name": "HBoxView",
            "box_style": "",
            "children": [
              "IPY_MODEL_2c0dff5f26124f78987d86de43fc4c16",
              "IPY_MODEL_924f3071eca24c538bfdf0554caba0f9",
              "IPY_MODEL_49bf19ed429f4eaf88c183a88da358db"
            ],
            "layout": "IPY_MODEL_09651cd7478a4024aa714b1c823cf0c3"
          }
        },
        "2c0dff5f26124f78987d86de43fc4c16": {
          "model_module": "@jupyter-widgets/controls",
          "model_name": "HTMLModel",
          "model_module_version": "1.5.0",
          "state": {
            "_dom_classes": [],
            "_model_module": "@jupyter-widgets/controls",
            "_model_module_version": "1.5.0",
            "_model_name": "HTMLModel",
            "_view_count": null,
            "_view_module": "@jupyter-widgets/controls",
            "_view_module_version": "1.5.0",
            "_view_name": "HTMLView",
            "description": "",
            "description_tooltip": null,
            "layout": "IPY_MODEL_aaa913ced4924293952cc65a54054826",
            "placeholder": "​",
            "style": "IPY_MODEL_a6d09ae00753458fa42f44737aa15e1d",
            "value": "Downloading (…)lve/main/config.json: 100%"
          }
        },
        "924f3071eca24c538bfdf0554caba0f9": {
          "model_module": "@jupyter-widgets/controls",
          "model_name": "FloatProgressModel",
          "model_module_version": "1.5.0",
          "state": {
            "_dom_classes": [],
            "_model_module": "@jupyter-widgets/controls",
            "_model_module_version": "1.5.0",
            "_model_name": "FloatProgressModel",
            "_view_count": null,
            "_view_module": "@jupyter-widgets/controls",
            "_view_module_version": "1.5.0",
            "_view_name": "ProgressView",
            "bar_style": "success",
            "description": "",
            "description_tooltip": null,
            "layout": "IPY_MODEL_5a98cc316ab94123aa264c8daa88c084",
            "max": 481,
            "min": 0,
            "orientation": "horizontal",
            "style": "IPY_MODEL_672a1c561e664342bc30c03fdf55fcfc",
            "value": 481
          }
        },
        "49bf19ed429f4eaf88c183a88da358db": {
          "model_module": "@jupyter-widgets/controls",
          "model_name": "HTMLModel",
          "model_module_version": "1.5.0",
          "state": {
            "_dom_classes": [],
            "_model_module": "@jupyter-widgets/controls",
            "_model_module_version": "1.5.0",
            "_model_name": "HTMLModel",
            "_view_count": null,
            "_view_module": "@jupyter-widgets/controls",
            "_view_module_version": "1.5.0",
            "_view_name": "HTMLView",
            "description": "",
            "description_tooltip": null,
            "layout": "IPY_MODEL_e7e2693bcd5840a4ae0b840f02a61ad3",
            "placeholder": "​",
            "style": "IPY_MODEL_c7e8158d77214059afc79e0a51473f5d",
            "value": " 481/481 [00:00&lt;00:00, 6.64kB/s]"
          }
        },
        "09651cd7478a4024aa714b1c823cf0c3": {
          "model_module": "@jupyter-widgets/base",
          "model_name": "LayoutModel",
          "model_module_version": "1.2.0",
          "state": {
            "_model_module": "@jupyter-widgets/base",
            "_model_module_version": "1.2.0",
            "_model_name": "LayoutModel",
            "_view_count": null,
            "_view_module": "@jupyter-widgets/base",
            "_view_module_version": "1.2.0",
            "_view_name": "LayoutView",
            "align_content": null,
            "align_items": null,
            "align_self": null,
            "border": null,
            "bottom": null,
            "display": null,
            "flex": null,
            "flex_flow": null,
            "grid_area": null,
            "grid_auto_columns": null,
            "grid_auto_flow": null,
            "grid_auto_rows": null,
            "grid_column": null,
            "grid_gap": null,
            "grid_row": null,
            "grid_template_areas": null,
            "grid_template_columns": null,
            "grid_template_rows": null,
            "height": null,
            "justify_content": null,
            "justify_items": null,
            "left": null,
            "margin": null,
            "max_height": null,
            "max_width": null,
            "min_height": null,
            "min_width": null,
            "object_fit": null,
            "object_position": null,
            "order": null,
            "overflow": null,
            "overflow_x": null,
            "overflow_y": null,
            "padding": null,
            "right": null,
            "top": null,
            "visibility": null,
            "width": null
          }
        },
        "aaa913ced4924293952cc65a54054826": {
          "model_module": "@jupyter-widgets/base",
          "model_name": "LayoutModel",
          "model_module_version": "1.2.0",
          "state": {
            "_model_module": "@jupyter-widgets/base",
            "_model_module_version": "1.2.0",
            "_model_name": "LayoutModel",
            "_view_count": null,
            "_view_module": "@jupyter-widgets/base",
            "_view_module_version": "1.2.0",
            "_view_name": "LayoutView",
            "align_content": null,
            "align_items": null,
            "align_self": null,
            "border": null,
            "bottom": null,
            "display": null,
            "flex": null,
            "flex_flow": null,
            "grid_area": null,
            "grid_auto_columns": null,
            "grid_auto_flow": null,
            "grid_auto_rows": null,
            "grid_column": null,
            "grid_gap": null,
            "grid_row": null,
            "grid_template_areas": null,
            "grid_template_columns": null,
            "grid_template_rows": null,
            "height": null,
            "justify_content": null,
            "justify_items": null,
            "left": null,
            "margin": null,
            "max_height": null,
            "max_width": null,
            "min_height": null,
            "min_width": null,
            "object_fit": null,
            "object_position": null,
            "order": null,
            "overflow": null,
            "overflow_x": null,
            "overflow_y": null,
            "padding": null,
            "right": null,
            "top": null,
            "visibility": null,
            "width": null
          }
        },
        "a6d09ae00753458fa42f44737aa15e1d": {
          "model_module": "@jupyter-widgets/controls",
          "model_name": "DescriptionStyleModel",
          "model_module_version": "1.5.0",
          "state": {
            "_model_module": "@jupyter-widgets/controls",
            "_model_module_version": "1.5.0",
            "_model_name": "DescriptionStyleModel",
            "_view_count": null,
            "_view_module": "@jupyter-widgets/base",
            "_view_module_version": "1.2.0",
            "_view_name": "StyleView",
            "description_width": ""
          }
        },
        "5a98cc316ab94123aa264c8daa88c084": {
          "model_module": "@jupyter-widgets/base",
          "model_name": "LayoutModel",
          "model_module_version": "1.2.0",
          "state": {
            "_model_module": "@jupyter-widgets/base",
            "_model_module_version": "1.2.0",
            "_model_name": "LayoutModel",
            "_view_count": null,
            "_view_module": "@jupyter-widgets/base",
            "_view_module_version": "1.2.0",
            "_view_name": "LayoutView",
            "align_content": null,
            "align_items": null,
            "align_self": null,
            "border": null,
            "bottom": null,
            "display": null,
            "flex": null,
            "flex_flow": null,
            "grid_area": null,
            "grid_auto_columns": null,
            "grid_auto_flow": null,
            "grid_auto_rows": null,
            "grid_column": null,
            "grid_gap": null,
            "grid_row": null,
            "grid_template_areas": null,
            "grid_template_columns": null,
            "grid_template_rows": null,
            "height": null,
            "justify_content": null,
            "justify_items": null,
            "left": null,
            "margin": null,
            "max_height": null,
            "max_width": null,
            "min_height": null,
            "min_width": null,
            "object_fit": null,
            "object_position": null,
            "order": null,
            "overflow": null,
            "overflow_x": null,
            "overflow_y": null,
            "padding": null,
            "right": null,
            "top": null,
            "visibility": null,
            "width": null
          }
        },
        "672a1c561e664342bc30c03fdf55fcfc": {
          "model_module": "@jupyter-widgets/controls",
          "model_name": "ProgressStyleModel",
          "model_module_version": "1.5.0",
          "state": {
            "_model_module": "@jupyter-widgets/controls",
            "_model_module_version": "1.5.0",
            "_model_name": "ProgressStyleModel",
            "_view_count": null,
            "_view_module": "@jupyter-widgets/base",
            "_view_module_version": "1.2.0",
            "_view_name": "StyleView",
            "bar_color": null,
            "description_width": ""
          }
        },
        "e7e2693bcd5840a4ae0b840f02a61ad3": {
          "model_module": "@jupyter-widgets/base",
          "model_name": "LayoutModel",
          "model_module_version": "1.2.0",
          "state": {
            "_model_module": "@jupyter-widgets/base",
            "_model_module_version": "1.2.0",
            "_model_name": "LayoutModel",
            "_view_count": null,
            "_view_module": "@jupyter-widgets/base",
            "_view_module_version": "1.2.0",
            "_view_name": "LayoutView",
            "align_content": null,
            "align_items": null,
            "align_self": null,
            "border": null,
            "bottom": null,
            "display": null,
            "flex": null,
            "flex_flow": null,
            "grid_area": null,
            "grid_auto_columns": null,
            "grid_auto_flow": null,
            "grid_auto_rows": null,
            "grid_column": null,
            "grid_gap": null,
            "grid_row": null,
            "grid_template_areas": null,
            "grid_template_columns": null,
            "grid_template_rows": null,
            "height": null,
            "justify_content": null,
            "justify_items": null,
            "left": null,
            "margin": null,
            "max_height": null,
            "max_width": null,
            "min_height": null,
            "min_width": null,
            "object_fit": null,
            "object_position": null,
            "order": null,
            "overflow": null,
            "overflow_x": null,
            "overflow_y": null,
            "padding": null,
            "right": null,
            "top": null,
            "visibility": null,
            "width": null
          }
        },
        "c7e8158d77214059afc79e0a51473f5d": {
          "model_module": "@jupyter-widgets/controls",
          "model_name": "DescriptionStyleModel",
          "model_module_version": "1.5.0",
          "state": {
            "_model_module": "@jupyter-widgets/controls",
            "_model_module_version": "1.5.0",
            "_model_name": "DescriptionStyleModel",
            "_view_count": null,
            "_view_module": "@jupyter-widgets/base",
            "_view_module_version": "1.2.0",
            "_view_name": "StyleView",
            "description_width": ""
          }
        },
        "a044002d32114f339bedd872ee41f4a7": {
          "model_module": "@jupyter-widgets/controls",
          "model_name": "HBoxModel",
          "model_module_version": "1.5.0",
          "state": {
            "_dom_classes": [],
            "_model_module": "@jupyter-widgets/controls",
            "_model_module_version": "1.5.0",
            "_model_name": "HBoxModel",
            "_view_count": null,
            "_view_module": "@jupyter-widgets/controls",
            "_view_module_version": "1.5.0",
            "_view_name": "HBoxView",
            "box_style": "",
            "children": [
              "IPY_MODEL_b17a9de5b9ec437ba78a396d5d3cb654",
              "IPY_MODEL_eb5187ed49bf4f57ab522a5697d7a9a7",
              "IPY_MODEL_0880c00764b2451cb1beafd3b4dae6b0"
            ],
            "layout": "IPY_MODEL_3df6f27ba9644deda97b94de5ceb29bf"
          }
        },
        "b17a9de5b9ec437ba78a396d5d3cb654": {
          "model_module": "@jupyter-widgets/controls",
          "model_name": "HTMLModel",
          "model_module_version": "1.5.0",
          "state": {
            "_dom_classes": [],
            "_model_module": "@jupyter-widgets/controls",
            "_model_module_version": "1.5.0",
            "_model_name": "HTMLModel",
            "_view_count": null,
            "_view_module": "@jupyter-widgets/controls",
            "_view_module_version": "1.5.0",
            "_view_name": "HTMLView",
            "description": "",
            "description_tooltip": null,
            "layout": "IPY_MODEL_516dd1188af14847a45773c61cfae7fd",
            "placeholder": "​",
            "style": "IPY_MODEL_35982b48d7f749f8b7e59b49e009f637",
            "value": "Downloading model.safetensors: 100%"
          }
        },
        "eb5187ed49bf4f57ab522a5697d7a9a7": {
          "model_module": "@jupyter-widgets/controls",
          "model_name": "FloatProgressModel",
          "model_module_version": "1.5.0",
          "state": {
            "_dom_classes": [],
            "_model_module": "@jupyter-widgets/controls",
            "_model_module_version": "1.5.0",
            "_model_name": "FloatProgressModel",
            "_view_count": null,
            "_view_module": "@jupyter-widgets/controls",
            "_view_module_version": "1.5.0",
            "_view_name": "ProgressView",
            "bar_style": "success",
            "description": "",
            "description_tooltip": null,
            "layout": "IPY_MODEL_628f2015fa164f17a5bc9ec8a3810dfe",
            "max": 498818054,
            "min": 0,
            "orientation": "horizontal",
            "style": "IPY_MODEL_9b9cfaadae6f409981a29d2c2350d2a3",
            "value": 498818054
          }
        },
        "0880c00764b2451cb1beafd3b4dae6b0": {
          "model_module": "@jupyter-widgets/controls",
          "model_name": "HTMLModel",
          "model_module_version": "1.5.0",
          "state": {
            "_dom_classes": [],
            "_model_module": "@jupyter-widgets/controls",
            "_model_module_version": "1.5.0",
            "_model_name": "HTMLModel",
            "_view_count": null,
            "_view_module": "@jupyter-widgets/controls",
            "_view_module_version": "1.5.0",
            "_view_name": "HTMLView",
            "description": "",
            "description_tooltip": null,
            "layout": "IPY_MODEL_8d7fabaca47e44fb9a9e6471ea02c293",
            "placeholder": "​",
            "style": "IPY_MODEL_236f2e02dfa845c08a77108a06d48782",
            "value": " 499M/499M [00:03&lt;00:00, 190MB/s]"
          }
        },
        "3df6f27ba9644deda97b94de5ceb29bf": {
          "model_module": "@jupyter-widgets/base",
          "model_name": "LayoutModel",
          "model_module_version": "1.2.0",
          "state": {
            "_model_module": "@jupyter-widgets/base",
            "_model_module_version": "1.2.0",
            "_model_name": "LayoutModel",
            "_view_count": null,
            "_view_module": "@jupyter-widgets/base",
            "_view_module_version": "1.2.0",
            "_view_name": "LayoutView",
            "align_content": null,
            "align_items": null,
            "align_self": null,
            "border": null,
            "bottom": null,
            "display": null,
            "flex": null,
            "flex_flow": null,
            "grid_area": null,
            "grid_auto_columns": null,
            "grid_auto_flow": null,
            "grid_auto_rows": null,
            "grid_column": null,
            "grid_gap": null,
            "grid_row": null,
            "grid_template_areas": null,
            "grid_template_columns": null,
            "grid_template_rows": null,
            "height": null,
            "justify_content": null,
            "justify_items": null,
            "left": null,
            "margin": null,
            "max_height": null,
            "max_width": null,
            "min_height": null,
            "min_width": null,
            "object_fit": null,
            "object_position": null,
            "order": null,
            "overflow": null,
            "overflow_x": null,
            "overflow_y": null,
            "padding": null,
            "right": null,
            "top": null,
            "visibility": null,
            "width": null
          }
        },
        "516dd1188af14847a45773c61cfae7fd": {
          "model_module": "@jupyter-widgets/base",
          "model_name": "LayoutModel",
          "model_module_version": "1.2.0",
          "state": {
            "_model_module": "@jupyter-widgets/base",
            "_model_module_version": "1.2.0",
            "_model_name": "LayoutModel",
            "_view_count": null,
            "_view_module": "@jupyter-widgets/base",
            "_view_module_version": "1.2.0",
            "_view_name": "LayoutView",
            "align_content": null,
            "align_items": null,
            "align_self": null,
            "border": null,
            "bottom": null,
            "display": null,
            "flex": null,
            "flex_flow": null,
            "grid_area": null,
            "grid_auto_columns": null,
            "grid_auto_flow": null,
            "grid_auto_rows": null,
            "grid_column": null,
            "grid_gap": null,
            "grid_row": null,
            "grid_template_areas": null,
            "grid_template_columns": null,
            "grid_template_rows": null,
            "height": null,
            "justify_content": null,
            "justify_items": null,
            "left": null,
            "margin": null,
            "max_height": null,
            "max_width": null,
            "min_height": null,
            "min_width": null,
            "object_fit": null,
            "object_position": null,
            "order": null,
            "overflow": null,
            "overflow_x": null,
            "overflow_y": null,
            "padding": null,
            "right": null,
            "top": null,
            "visibility": null,
            "width": null
          }
        },
        "35982b48d7f749f8b7e59b49e009f637": {
          "model_module": "@jupyter-widgets/controls",
          "model_name": "DescriptionStyleModel",
          "model_module_version": "1.5.0",
          "state": {
            "_model_module": "@jupyter-widgets/controls",
            "_model_module_version": "1.5.0",
            "_model_name": "DescriptionStyleModel",
            "_view_count": null,
            "_view_module": "@jupyter-widgets/base",
            "_view_module_version": "1.2.0",
            "_view_name": "StyleView",
            "description_width": ""
          }
        },
        "628f2015fa164f17a5bc9ec8a3810dfe": {
          "model_module": "@jupyter-widgets/base",
          "model_name": "LayoutModel",
          "model_module_version": "1.2.0",
          "state": {
            "_model_module": "@jupyter-widgets/base",
            "_model_module_version": "1.2.0",
            "_model_name": "LayoutModel",
            "_view_count": null,
            "_view_module": "@jupyter-widgets/base",
            "_view_module_version": "1.2.0",
            "_view_name": "LayoutView",
            "align_content": null,
            "align_items": null,
            "align_self": null,
            "border": null,
            "bottom": null,
            "display": null,
            "flex": null,
            "flex_flow": null,
            "grid_area": null,
            "grid_auto_columns": null,
            "grid_auto_flow": null,
            "grid_auto_rows": null,
            "grid_column": null,
            "grid_gap": null,
            "grid_row": null,
            "grid_template_areas": null,
            "grid_template_columns": null,
            "grid_template_rows": null,
            "height": null,
            "justify_content": null,
            "justify_items": null,
            "left": null,
            "margin": null,
            "max_height": null,
            "max_width": null,
            "min_height": null,
            "min_width": null,
            "object_fit": null,
            "object_position": null,
            "order": null,
            "overflow": null,
            "overflow_x": null,
            "overflow_y": null,
            "padding": null,
            "right": null,
            "top": null,
            "visibility": null,
            "width": null
          }
        },
        "9b9cfaadae6f409981a29d2c2350d2a3": {
          "model_module": "@jupyter-widgets/controls",
          "model_name": "ProgressStyleModel",
          "model_module_version": "1.5.0",
          "state": {
            "_model_module": "@jupyter-widgets/controls",
            "_model_module_version": "1.5.0",
            "_model_name": "ProgressStyleModel",
            "_view_count": null,
            "_view_module": "@jupyter-widgets/base",
            "_view_module_version": "1.2.0",
            "_view_name": "StyleView",
            "bar_color": null,
            "description_width": ""
          }
        },
        "8d7fabaca47e44fb9a9e6471ea02c293": {
          "model_module": "@jupyter-widgets/base",
          "model_name": "LayoutModel",
          "model_module_version": "1.2.0",
          "state": {
            "_model_module": "@jupyter-widgets/base",
            "_model_module_version": "1.2.0",
            "_model_name": "LayoutModel",
            "_view_count": null,
            "_view_module": "@jupyter-widgets/base",
            "_view_module_version": "1.2.0",
            "_view_name": "LayoutView",
            "align_content": null,
            "align_items": null,
            "align_self": null,
            "border": null,
            "bottom": null,
            "display": null,
            "flex": null,
            "flex_flow": null,
            "grid_area": null,
            "grid_auto_columns": null,
            "grid_auto_flow": null,
            "grid_auto_rows": null,
            "grid_column": null,
            "grid_gap": null,
            "grid_row": null,
            "grid_template_areas": null,
            "grid_template_columns": null,
            "grid_template_rows": null,
            "height": null,
            "justify_content": null,
            "justify_items": null,
            "left": null,
            "margin": null,
            "max_height": null,
            "max_width": null,
            "min_height": null,
            "min_width": null,
            "object_fit": null,
            "object_position": null,
            "order": null,
            "overflow": null,
            "overflow_x": null,
            "overflow_y": null,
            "padding": null,
            "right": null,
            "top": null,
            "visibility": null,
            "width": null
          }
        },
        "236f2e02dfa845c08a77108a06d48782": {
          "model_module": "@jupyter-widgets/controls",
          "model_name": "DescriptionStyleModel",
          "model_module_version": "1.5.0",
          "state": {
            "_model_module": "@jupyter-widgets/controls",
            "_model_module_version": "1.5.0",
            "_model_name": "DescriptionStyleModel",
            "_view_count": null,
            "_view_module": "@jupyter-widgets/base",
            "_view_module_version": "1.2.0",
            "_view_name": "StyleView",
            "description_width": ""
          }
        }
      }
    }
  },
  "cells": [
    {
      "cell_type": "code",
      "source": [
        "!pip install transformers"
      ],
      "metadata": {
        "colab": {
          "base_uri": "https://localhost:8080/"
        },
        "id": "bXcYFJqQl5gw",
        "outputId": "4b3a1ee5-9d54-4411-b907-feef10c24973"
      },
      "execution_count": 2,
      "outputs": [
        {
          "output_type": "stream",
          "name": "stdout",
          "text": [
            "Collecting transformers\n",
            "  Downloading transformers-4.31.0-py3-none-any.whl (7.4 MB)\n",
            "\u001b[2K     \u001b[90m━━━━━━━━━━━━━━━━━━━━━━━━━━━━━━━━━━━━━━━━\u001b[0m \u001b[32m7.4/7.4 MB\u001b[0m \u001b[31m13.0 MB/s\u001b[0m eta \u001b[36m0:00:00\u001b[0m\n",
            "\u001b[?25hRequirement already satisfied: filelock in /usr/local/lib/python3.10/dist-packages (from transformers) (3.12.2)\n",
            "Collecting huggingface-hub<1.0,>=0.14.1 (from transformers)\n",
            "  Downloading huggingface_hub-0.16.4-py3-none-any.whl (268 kB)\n",
            "\u001b[2K     \u001b[90m━━━━━━━━━━━━━━━━━━━━━━━━━━━━━━━━━━━━━━\u001b[0m \u001b[32m268.8/268.8 kB\u001b[0m \u001b[31m20.9 MB/s\u001b[0m eta \u001b[36m0:00:00\u001b[0m\n",
            "\u001b[?25hRequirement already satisfied: numpy>=1.17 in /usr/local/lib/python3.10/dist-packages (from transformers) (1.23.5)\n",
            "Requirement already satisfied: packaging>=20.0 in /usr/local/lib/python3.10/dist-packages (from transformers) (23.1)\n",
            "Requirement already satisfied: pyyaml>=5.1 in /usr/local/lib/python3.10/dist-packages (from transformers) (6.0.1)\n",
            "Requirement already satisfied: regex!=2019.12.17 in /usr/local/lib/python3.10/dist-packages (from transformers) (2023.6.3)\n",
            "Requirement already satisfied: requests in /usr/local/lib/python3.10/dist-packages (from transformers) (2.31.0)\n",
            "Collecting tokenizers!=0.11.3,<0.14,>=0.11.1 (from transformers)\n",
            "  Downloading tokenizers-0.13.3-cp310-cp310-manylinux_2_17_x86_64.manylinux2014_x86_64.whl (7.8 MB)\n",
            "\u001b[2K     \u001b[90m━━━━━━━━━━━━━━━━━━━━━━━━━━━━━━━━━━━━━━━━\u001b[0m \u001b[32m7.8/7.8 MB\u001b[0m \u001b[31m24.9 MB/s\u001b[0m eta \u001b[36m0:00:00\u001b[0m\n",
            "\u001b[?25hCollecting safetensors>=0.3.1 (from transformers)\n",
            "  Downloading safetensors-0.3.2-cp310-cp310-manylinux_2_17_x86_64.manylinux2014_x86_64.whl (1.3 MB)\n",
            "\u001b[2K     \u001b[90m━━━━━━━━━━━━━━━━━━━━━━━━━━━━━━━━━━━━━━━━\u001b[0m \u001b[32m1.3/1.3 MB\u001b[0m \u001b[31m23.4 MB/s\u001b[0m eta \u001b[36m0:00:00\u001b[0m\n",
            "\u001b[?25hRequirement already satisfied: tqdm>=4.27 in /usr/local/lib/python3.10/dist-packages (from transformers) (4.66.1)\n",
            "Requirement already satisfied: fsspec in /usr/local/lib/python3.10/dist-packages (from huggingface-hub<1.0,>=0.14.1->transformers) (2023.6.0)\n",
            "Requirement already satisfied: typing-extensions>=3.7.4.3 in /usr/local/lib/python3.10/dist-packages (from huggingface-hub<1.0,>=0.14.1->transformers) (4.7.1)\n",
            "Requirement already satisfied: charset-normalizer<4,>=2 in /usr/local/lib/python3.10/dist-packages (from requests->transformers) (3.2.0)\n",
            "Requirement already satisfied: idna<4,>=2.5 in /usr/local/lib/python3.10/dist-packages (from requests->transformers) (3.4)\n",
            "Requirement already satisfied: urllib3<3,>=1.21.1 in /usr/local/lib/python3.10/dist-packages (from requests->transformers) (2.0.4)\n",
            "Requirement already satisfied: certifi>=2017.4.17 in /usr/local/lib/python3.10/dist-packages (from requests->transformers) (2023.7.22)\n",
            "Installing collected packages: tokenizers, safetensors, huggingface-hub, transformers\n",
            "Successfully installed huggingface-hub-0.16.4 safetensors-0.3.2 tokenizers-0.13.3 transformers-4.31.0\n"
          ]
        }
      ]
    },
    {
      "cell_type": "code",
      "source": [
        "from transformers import RobertaTokenizer, RobertaModel\n",
        "import torch\n",
        "from torch.utils.data import Dataset, DataLoader\n",
        "from torch import cuda\n",
        "import torch.optim as optim\n",
        "import pickle\n",
        "device = 'cuda' if cuda.is_available() else 'cpu'\n",
        "import numpy as np\n",
        "from sklearn import metrics\n",
        "from tqdm import tqdm\n",
        "tokenizer = RobertaTokenizer.from_pretrained(\"roberta-base\")\n",
        "\n",
        "MAX_LEN = 64\n",
        "TRAIN_BATCH_SIZE = 32\n",
        "VALID_BATCH_SIZE = 32\n",
        "\n",
        "EPOCHS = 10\n",
        "LEARNING_RATE = 1e-5"
      ],
      "metadata": {
        "id": "jbtpUMsONwYd",
        "colab": {
          "base_uri": "https://localhost:8080/",
          "height": 113,
          "referenced_widgets": [
            "870592ee4bf24f808983c4dda41cd715",
            "3f486380e91f4e1dbcfbb0630fc19256",
            "f09c4be814b249768a88aedb03b3d9c9",
            "0dc77e24d0d94b63803cc1df8168eaa6",
            "d080268780d94d03a21c7e61b6b81e62",
            "461baf9b91d844f0a7197a88c786687b",
            "d70b43838c184573a16af160f858831f",
            "41c75fb677ed480bb4558d25e8a6f7e6",
            "372d16a22c1247b190e193d4dc38d5c4",
            "7a664e4b717147318ad018111b2f7621",
            "58ac5682070945138cd1c9d6c48fee69",
            "68ed34031b6b47d88d3a29ac19579229",
            "782b7d5e0df74d638356ef7ccf737c7c",
            "dd9dfc4953864bc4ae7c9ca433626465",
            "e1ca4b26f64c4327bbd1e94c305eca4e",
            "6768067b3b504fd8b2f271f049dd5691",
            "66ef0e5b115449fba937a80b71edc8b6",
            "f41481273f78497a82ad0e28e5a83b6e",
            "ac32174ddbc0424593bb8d085a506337",
            "b53356f160ec4cb791506e3046db3575",
            "b3f1f27a3a304c9b9dd0c51ec42dba70",
            "16754333974747e6979ba27b48348942",
            "3c37aa8b258544938095b70bb6e598b7",
            "2c0dff5f26124f78987d86de43fc4c16",
            "924f3071eca24c538bfdf0554caba0f9",
            "49bf19ed429f4eaf88c183a88da358db",
            "09651cd7478a4024aa714b1c823cf0c3",
            "aaa913ced4924293952cc65a54054826",
            "a6d09ae00753458fa42f44737aa15e1d",
            "5a98cc316ab94123aa264c8daa88c084",
            "672a1c561e664342bc30c03fdf55fcfc",
            "e7e2693bcd5840a4ae0b840f02a61ad3",
            "c7e8158d77214059afc79e0a51473f5d"
          ]
        },
        "outputId": "9b2b850a-f3f4-4ae0-9642-40f3ea603d2b"
      },
      "execution_count": 3,
      "outputs": [
        {
          "output_type": "display_data",
          "data": {
            "text/plain": [
              "Downloading (…)olve/main/vocab.json:   0%|          | 0.00/899k [00:00<?, ?B/s]"
            ],
            "application/vnd.jupyter.widget-view+json": {
              "version_major": 2,
              "version_minor": 0,
              "model_id": "870592ee4bf24f808983c4dda41cd715"
            }
          },
          "metadata": {}
        },
        {
          "output_type": "display_data",
          "data": {
            "text/plain": [
              "Downloading (…)olve/main/merges.txt:   0%|          | 0.00/456k [00:00<?, ?B/s]"
            ],
            "application/vnd.jupyter.widget-view+json": {
              "version_major": 2,
              "version_minor": 0,
              "model_id": "68ed34031b6b47d88d3a29ac19579229"
            }
          },
          "metadata": {}
        },
        {
          "output_type": "display_data",
          "data": {
            "text/plain": [
              "Downloading (…)lve/main/config.json:   0%|          | 0.00/481 [00:00<?, ?B/s]"
            ],
            "application/vnd.jupyter.widget-view+json": {
              "version_major": 2,
              "version_minor": 0,
              "model_id": "3c37aa8b258544938095b70bb6e598b7"
            }
          },
          "metadata": {}
        }
      ]
    },
    {
      "cell_type": "code",
      "source": [
        "class BERTClass(torch.nn.Module):\n",
        "    def __init__(self):\n",
        "        super(BERTClass, self).__init__()\n",
        "        self.l1 = RobertaModel.from_pretrained('roberta-base')\n",
        "        self.l2 = torch.nn.Dropout(0.7)\n",
        "        self.l3 = torch.nn.Linear(768, 24)\n",
        "\n",
        "    def forward(self, ids, mask):\n",
        "        _, output_1= self.l1(ids, attention_mask = mask, return_dict=False)\n",
        "        output_2 = self.l2(output_1)\n",
        "        output = self.l3(output_2)\n",
        "        return output\n",
        "\n",
        "model = BERTClass()\n",
        "model.to(device)"
      ],
      "metadata": {
        "colab": {
          "base_uri": "https://localhost:8080/",
          "height": 888,
          "referenced_widgets": [
            "a044002d32114f339bedd872ee41f4a7",
            "b17a9de5b9ec437ba78a396d5d3cb654",
            "eb5187ed49bf4f57ab522a5697d7a9a7",
            "0880c00764b2451cb1beafd3b4dae6b0",
            "3df6f27ba9644deda97b94de5ceb29bf",
            "516dd1188af14847a45773c61cfae7fd",
            "35982b48d7f749f8b7e59b49e009f637",
            "628f2015fa164f17a5bc9ec8a3810dfe",
            "9b9cfaadae6f409981a29d2c2350d2a3",
            "8d7fabaca47e44fb9a9e6471ea02c293",
            "236f2e02dfa845c08a77108a06d48782"
          ]
        },
        "id": "3KtEvHadUg6T",
        "outputId": "cf33d48e-676d-490e-8f5b-bb46447b0870"
      },
      "execution_count": 3,
      "outputs": [
        {
          "output_type": "display_data",
          "data": {
            "text/plain": [
              "Downloading model.safetensors:   0%|          | 0.00/499M [00:00<?, ?B/s]"
            ],
            "application/vnd.jupyter.widget-view+json": {
              "version_major": 2,
              "version_minor": 0,
              "model_id": "a044002d32114f339bedd872ee41f4a7"
            }
          },
          "metadata": {}
        },
        {
          "output_type": "stream",
          "name": "stderr",
          "text": [
            "Some weights of RobertaModel were not initialized from the model checkpoint at roberta-base and are newly initialized: ['roberta.pooler.dense.bias', 'roberta.pooler.dense.weight']\n",
            "You should probably TRAIN this model on a down-stream task to be able to use it for predictions and inference.\n"
          ]
        },
        {
          "output_type": "execute_result",
          "data": {
            "text/plain": [
              "BERTClass(\n",
              "  (l1): RobertaModel(\n",
              "    (embeddings): RobertaEmbeddings(\n",
              "      (word_embeddings): Embedding(50265, 768, padding_idx=1)\n",
              "      (position_embeddings): Embedding(514, 768, padding_idx=1)\n",
              "      (token_type_embeddings): Embedding(1, 768)\n",
              "      (LayerNorm): LayerNorm((768,), eps=1e-05, elementwise_affine=True)\n",
              "      (dropout): Dropout(p=0.1, inplace=False)\n",
              "    )\n",
              "    (encoder): RobertaEncoder(\n",
              "      (layer): ModuleList(\n",
              "        (0-11): 12 x RobertaLayer(\n",
              "          (attention): RobertaAttention(\n",
              "            (self): RobertaSelfAttention(\n",
              "              (query): Linear(in_features=768, out_features=768, bias=True)\n",
              "              (key): Linear(in_features=768, out_features=768, bias=True)\n",
              "              (value): Linear(in_features=768, out_features=768, bias=True)\n",
              "              (dropout): Dropout(p=0.1, inplace=False)\n",
              "            )\n",
              "            (output): RobertaSelfOutput(\n",
              "              (dense): Linear(in_features=768, out_features=768, bias=True)\n",
              "              (LayerNorm): LayerNorm((768,), eps=1e-05, elementwise_affine=True)\n",
              "              (dropout): Dropout(p=0.1, inplace=False)\n",
              "            )\n",
              "          )\n",
              "          (intermediate): RobertaIntermediate(\n",
              "            (dense): Linear(in_features=768, out_features=3072, bias=True)\n",
              "            (intermediate_act_fn): GELUActivation()\n",
              "          )\n",
              "          (output): RobertaOutput(\n",
              "            (dense): Linear(in_features=3072, out_features=768, bias=True)\n",
              "            (LayerNorm): LayerNorm((768,), eps=1e-05, elementwise_affine=True)\n",
              "            (dropout): Dropout(p=0.1, inplace=False)\n",
              "          )\n",
              "        )\n",
              "      )\n",
              "    )\n",
              "    (pooler): RobertaPooler(\n",
              "      (dense): Linear(in_features=768, out_features=768, bias=True)\n",
              "      (activation): Tanh()\n",
              "    )\n",
              "  )\n",
              "  (l2): Dropout(p=0.7, inplace=False)\n",
              "  (l3): Linear(in_features=768, out_features=24, bias=True)\n",
              ")"
            ]
          },
          "metadata": {},
          "execution_count": 3
        }
      ]
    },
    {
      "cell_type": "code",
      "source": [
        "def loss_fn(outputs, targets):\n",
        "    return torch.nn.CrossEntropyLoss()(outputs, targets)\n",
        "\n",
        "optimizer = optim.Adam(model.parameters(), lr=LEARNING_RATE)\n",
        "\n",
        "training_loss = []\n",
        "validation_loss = []"
      ],
      "metadata": {
        "id": "DKebKg0uV0Vn",
        "colab": {
          "base_uri": "https://localhost:8080/",
          "height": 250
        },
        "outputId": "9a044723-98ef-4013-ba0a-465ca8809670"
      },
      "execution_count": 4,
      "outputs": [
        {
          "output_type": "error",
          "ename": "NameError",
          "evalue": "ignored",
          "traceback": [
            "\u001b[0;31m---------------------------------------------------------------------------\u001b[0m",
            "\u001b[0;31mNameError\u001b[0m                                 Traceback (most recent call last)",
            "\u001b[0;32m<ipython-input-4-13421d7e9547>\u001b[0m in \u001b[0;36m<cell line: 4>\u001b[0;34m()\u001b[0m\n\u001b[1;32m      2\u001b[0m     \u001b[0;32mreturn\u001b[0m \u001b[0mtorch\u001b[0m\u001b[0;34m.\u001b[0m\u001b[0mnn\u001b[0m\u001b[0;34m.\u001b[0m\u001b[0mCrossEntropyLoss\u001b[0m\u001b[0;34m(\u001b[0m\u001b[0;34m)\u001b[0m\u001b[0;34m(\u001b[0m\u001b[0moutputs\u001b[0m\u001b[0;34m,\u001b[0m \u001b[0mtargets\u001b[0m\u001b[0;34m)\u001b[0m\u001b[0;34m\u001b[0m\u001b[0;34m\u001b[0m\u001b[0m\n\u001b[1;32m      3\u001b[0m \u001b[0;34m\u001b[0m\u001b[0m\n\u001b[0;32m----> 4\u001b[0;31m \u001b[0moptimizer\u001b[0m \u001b[0;34m=\u001b[0m \u001b[0moptim\u001b[0m\u001b[0;34m.\u001b[0m\u001b[0mAdam\u001b[0m\u001b[0;34m(\u001b[0m\u001b[0mmodel\u001b[0m\u001b[0;34m.\u001b[0m\u001b[0mparameters\u001b[0m\u001b[0;34m(\u001b[0m\u001b[0;34m)\u001b[0m\u001b[0;34m,\u001b[0m \u001b[0mlr\u001b[0m\u001b[0;34m=\u001b[0m\u001b[0mLEARNING_RATE\u001b[0m\u001b[0;34m)\u001b[0m\u001b[0;34m\u001b[0m\u001b[0;34m\u001b[0m\u001b[0m\n\u001b[0m\u001b[1;32m      5\u001b[0m \u001b[0;34m\u001b[0m\u001b[0m\n\u001b[1;32m      6\u001b[0m \u001b[0mtraining_loss\u001b[0m \u001b[0;34m=\u001b[0m \u001b[0;34m[\u001b[0m\u001b[0;34m]\u001b[0m\u001b[0;34m\u001b[0m\u001b[0;34m\u001b[0m\u001b[0m\n",
            "\u001b[0;31mNameError\u001b[0m: name 'model' is not defined"
          ]
        }
      ]
    },
    {
      "cell_type": "code",
      "source": [
        "label_dict ={\n",
        "    'HEALTHCARE': 0, 'FINANCE': 1, 'HR': 2, 'ADVOCATE': 3, 'APPAREL': 4,\n",
        "    'ACCOUNTANT': 5, 'CHEF': 6, 'CONSULTANT': 7, 'INFORMATION-TECHNOLOGY': 8, 'FITNESS': 9,\n",
        "    'BUSINESS-DEVELOPMENT': 10, 'SALES': 11, 'CONSTRUCTION': 12, 'BANKING': 13, 'ENGINEERING': 14,\n",
        "    'AVIATION': 15, 'PUBLIC-RELATIONS': 16, 'DIGITAL-MEDIA': 17, 'DESIGNER': 18, 'TEACHER': 19,\n",
        "    'ARTS': 20, 'AGRICULTURE': 21, 'AUTOMOBILE': 22, 'BPO': 23\n",
        "}\n",
        "\n",
        "with open('train_new.pickle','rb') as f1:\n",
        "  train = pickle.load(f1)\n",
        "with open('valid_new.pickle','rb') as f2:\n",
        "  valid = pickle.load(f2)\n",
        "with open('test_new.pickle','rb') as f3:\n",
        "  test = pickle.load(f3)\n",
        "\n",
        "train_categories = [label_dict[cat] for cat in train[1]]\n",
        "train[1] = train_categories\n",
        "\n",
        "valid_categories = [label_dict[cat] for cat in valid[1]]\n",
        "valid[1] = valid_categories\n",
        "\n",
        "test_categories = [label_dict[cat] for cat in test[1]]\n",
        "test[1] = test_categories\n",
        "\n",
        "print(len(train[0]))\n",
        "print(len(train[1]))\n"
      ],
      "metadata": {
        "colab": {
          "base_uri": "https://localhost:8080/"
        },
        "id": "FPcya_YRTFEW",
        "outputId": "5dcd008e-7d3b-4a45-cf68-1140d103e0e0"
      },
      "execution_count": 18,
      "outputs": [
        {
          "output_type": "stream",
          "name": "stdout",
          "text": [
            "54923\n",
            "54923\n"
          ]
        }
      ]
    },
    {
      "cell_type": "code",
      "execution_count": 6,
      "metadata": {
        "colab": {
          "base_uri": "https://localhost:8080/"
        },
        "id": "qD3k6yGDLYrK",
        "outputId": "52e65308-03e9-4400-c2ec-8eaf0234cc01"
      },
      "outputs": [
        {
          "output_type": "stream",
          "name": "stdout",
          "text": [
            "{'ids': tensor([    0,   246,   107,     8,   361,   377,  1437,  1437,     9,   676,\n",
            "           11,     5,   709,     6,   323,     8, 25387,     9,  3748,     8,\n",
            "         1437,  6410,  2975,     8,    11,     5,  5574,     9,   701,  2375,\n",
            "          923,  4917,    29,  1437, 30148,     8,  2226,  3748,   805,  3270,\n",
            "           11,  1437,  1437,  1437,  1437, 31491,   479, 13548,   155,     4,\n",
            "          245,     6,  1437,   634,     5,  8326,     8,  1437,   230, 10431,\n",
            "         1437, 12901,    73,     2]), 'mask': tensor([1, 1, 1, 1, 1, 1, 1, 1, 1, 1, 1, 1, 1, 1, 1, 1, 1, 1, 1, 1, 1, 1, 1, 1,\n",
            "        1, 1, 1, 1, 1, 1, 1, 1, 1, 1, 1, 1, 1, 1, 1, 1, 1, 1, 1, 1, 1, 1, 1, 1,\n",
            "        1, 1, 1, 1, 1, 1, 1, 1, 1, 1, 1, 1, 1, 1, 1, 1]), 'targets': tensor([0., 0., 0., 0., 0., 0., 0., 0., 0., 0., 0., 0., 0., 1., 0., 0., 0., 0.,\n",
            "        0., 0., 0., 0., 0., 0.])}\n",
            "<class 'torch.Tensor'>\n"
          ]
        }
      ],
      "source": [
        "class CustomDataset(Dataset):\n",
        "\n",
        "    def __init__(self, dataframe, tokenizer, max_len):\n",
        "        self.tokenizer = tokenizer\n",
        "        self.data = dataframe\n",
        "        self.jobline = dataframe[0]\n",
        "        self.category = dataframe[1]\n",
        "        self.max_len = max_len\n",
        "\n",
        "    def __len__(self):\n",
        "        return len(self.jobline)\n",
        "\n",
        "    def __getitem__(self, index):\n",
        "        pre_text = self.jobline[index]\n",
        "\n",
        "        inputs = self.tokenizer(pre_text, padding=\"max_length\", truncation=True, max_length=self.max_len)\n",
        "        ids = inputs['input_ids']\n",
        "        mask = inputs['attention_mask']\n",
        "        # token_type_ids = inputs[\"token_type_ids\"]\n",
        "        targets = torch.zeros(24)\n",
        "        targets[self.category[index]] = 1\n",
        "\n",
        "        return {\n",
        "            'ids': torch.tensor(ids, dtype=torch.long),\n",
        "            'mask': torch.tensor(mask, dtype=torch.long),\n",
        "            # 'token_type_ids': torch.tensor(token_type_ids, dtype=torch.long),\n",
        "            'targets': targets\n",
        "        }\n",
        "\n",
        "training_set = CustomDataset(train, tokenizer, MAX_LEN)\n",
        "\n",
        "print(training_set[25])\n",
        "print(type(training_set[25]['targets']))"
      ]
    },
    {
      "cell_type": "code",
      "source": [
        "train_params = {'batch_size': TRAIN_BATCH_SIZE,\n",
        "                'shuffle': False,\n",
        "                'num_workers': 0\n",
        "                }\n",
        "\n",
        "# valid_params = {'batch_size': VALID_BATCH_SIZE,\n",
        "#                 'shuffle': False,\n",
        "#                 'num_workers': 0\n",
        "#                 }\n",
        "\n",
        "# test_params = {'batch_size': 1,\n",
        "#                 'shuffle': False,\n",
        "#                 'num_workers': 0\n",
        "#                 }\n",
        "\n",
        "training_loader = DataLoader(training_set, **train_params)\n",
        "# testing_loader = DataLoader(testing_set, **test_params)\n",
        "# validation_loader = DataLoader(validation_set, **valid_params)"
      ],
      "metadata": {
        "id": "5WsmzsoPSzgC"
      },
      "execution_count": 7,
      "outputs": []
    },
    {
      "cell_type": "code",
      "source": [
        "def train_model(epoch):\n",
        "    total_loss = 0.0\n",
        "    loss_count = 0\n",
        "    model.train()\n",
        "    for _,data in enumerate(tqdm(training_loader, 0)):\n",
        "        ids = data['ids'].to(device, dtype = torch.long)\n",
        "        mask = data['mask'].to(device, dtype = torch.long)\n",
        "        # token_type_ids = data['token_type_ids'].to(device, dtype = torch.long)\n",
        "        targets = data['targets'].to(device)\n",
        "\n",
        "        outputs = model(ids, mask)\n",
        "        optimizer.zero_grad()\n",
        "        loss = loss_fn(outputs, targets)\n",
        "        total_loss += loss.item()\n",
        "        loss_count += 1\n",
        "\n",
        "        if _%5000==0:\n",
        "            print(f'Epoch: {epoch}, Loss:  {loss.item()}')\n",
        "\n",
        "\n",
        "        loss.backward()\n",
        "        optimizer.step()\n",
        "\n",
        "    total_loss /= loss_count\n",
        "    training_loss.append(total_loss)"
      ],
      "metadata": {
        "id": "pjTzWTRSnzDg"
      },
      "execution_count": 8,
      "outputs": []
    },
    {
      "cell_type": "code",
      "source": [
        "def validation():\n",
        "    model.eval()\n",
        "    predict_labels=[]\n",
        "    valid_labels = []\n",
        "    total_loss = 0.0\n",
        "    loss_count = 0\n",
        "    with torch.no_grad():\n",
        "      for job, category in zip(valid[0],valid[1]):\n",
        "        if not job:\n",
        "          continue\n",
        "        valid_labels.append(category)\n",
        "        inputs = tokenizer(job, padding=\"max_length\", truncation=True, max_length=MAX_LEN)\n",
        "        ids = inputs['input_ids']\n",
        "        mask = inputs['attention_mask']\n",
        "\n",
        "        ids = torch.tensor(ids, dtype=torch.long).to(device)\n",
        "        mask = torch.tensor(mask, dtype=torch.long).to(device)\n",
        "\n",
        "        # ids = ids.unsqueeze(0)\n",
        "        # mask = mask.unsqueeze(0)\n",
        "\n",
        "        output = model(ids, mask)\n",
        "\n",
        "        target = torch.zeros(24)\n",
        "        target[category] = 1\n",
        "        targets = target.repeat(len(job),1)\n",
        "        targets = targets.to(device)\n",
        "\n",
        "        loss = loss_fn(output, targets)\n",
        "        total_loss += loss.item()\n",
        "        loss_count += 1\n",
        "        output = torch.mode(torch.argmax(output, dim=1))[0].cpu().item()\n",
        "        predict_labels.append(output)\n",
        "\n",
        "    total_loss /= loss_count\n",
        "    validation_loss.append(total_loss)\n",
        "    print(f\"predict labels: {predict_labels}\")\n",
        "    print(f\"valid labels: {valid_labels}\" )\n",
        "    print(f'validation loss: {total_loss}')\n",
        "\n",
        "    accuracy = metrics.accuracy_score(valid_labels, predict_labels)\n",
        "    f1_score_micro = metrics.f1_score(valid_labels, predict_labels, average='micro')\n",
        "    f1_score_macro = metrics.f1_score(valid_labels, predict_labels, average='macro')\n",
        "    print(f\"Accuracy Score = {accuracy}\")\n",
        "    print(f\"F1 Score (Micro) = {f1_score_micro}\")\n",
        "    print(f\"F1 Score (Macro) = {f1_score_macro}\")\n",
        "\n",
        "\n",
        "    #     for _, data in enumerate(validation_loader, 0):\n",
        "    #         ids = data['ids'].to(device, dtype = torch.long)\n",
        "    #         mask = data['mask'].to(device, dtype = torch.long)\n",
        "    #         # token_type_ids = data['token_type_ids'].to(device, dtype = torch.long)\n",
        "    #         targets = data['targets'].to(device)\n",
        "    #         outputs = model(ids, mask)\n",
        "\n",
        "    #         loss = loss_fn(outputs, targets)\n",
        "    #         total_loss += loss.item()\n",
        "    #         loss_count += 1\n",
        "\n",
        "    #         fin_targets.extend(targets.cpu().detach().numpy().tolist())\n",
        "    #         fin_outputs.extend(torch.sigmoid(outputs).cpu().detach().numpy().tolist())\n",
        "    # total_loss /= loss_count\n",
        "    # validation_loss.append(total_loss)"
      ],
      "metadata": {
        "id": "17qe0ckiooQw"
      },
      "execution_count": 9,
      "outputs": []
    },
    {
      "cell_type": "code",
      "source": [
        "for epoch in range(EPOCHS):\n",
        "\n",
        "    train_model(epoch)\n",
        "    validation()"
      ],
      "metadata": {
        "colab": {
          "base_uri": "https://localhost:8080/",
          "height": 1000
        },
        "id": "vAUHPKsWopeo",
        "outputId": "661681d9-6284-46fb-a5c4-020f02064bf2"
      },
      "execution_count": 12,
      "outputs": [
        {
          "output_type": "stream",
          "name": "stderr",
          "text": [
            "  0%|          | 1/1717 [00:00<05:19,  5.37it/s]"
          ]
        },
        {
          "output_type": "stream",
          "name": "stdout",
          "text": [
            "Epoch: 0, Loss:  2.5080513954162598\n"
          ]
        },
        {
          "output_type": "stream",
          "name": "stderr",
          "text": [
            "100%|██████████| 1717/1717 [09:50<00:00,  2.91it/s]\n"
          ]
        },
        {
          "output_type": "stream",
          "name": "stdout",
          "text": [
            "predict labels: [10, 0, 5, 4, 8, 19, 0, 8, 19, 12, 14, 0, 13, 6, 14, 10, 18, 8, 8, 0, 14, 15, 10, 10, 19, 5, 12, 3, 4, 19, 5, 8, 9, 8, 12, 17, 0, 13, 18, 12, 8, 19, 8, 18, 12, 17, 15, 15, 6, 19, 1, 10, 5, 5, 8, 12, 10, 16, 2, 13, 13, 8, 16, 2, 8, 8, 14, 7, 13, 17, 8, 3, 4, 1, 8, 19, 12, 4, 18, 16, 19, 17, 10, 0, 10, 5, 6, 12, 18, 13, 2, 19, 15, 2, 2, 15, 8, 12, 8, 17, 14, 0, 3, 2, 12, 19, 12, 0, 6, 19, 4, 10, 5, 0, 19, 0, 5, 8, 13, 17, 12, 6, 5, 15, 13, 4, 12, 12, 14, 8, 12, 10, 8, 5, 12, 16, 5, 3, 2, 17, 18, 5, 19, 5, 12, 14, 5, 6, 0, 13, 19, 12, 11, 9, 5, 12, 8, 5, 8, 8, 2, 16, 12, 10, 8, 19, 19, 6, 14, 18, 4, 13, 17, 2, 0, 10, 15, 2, 1, 8, 8, 8, 14, 10, 8, 5, 1, 5, 8, 8, 11, 10, 18, 5, 8, 10, 8, 12, 16, 8, 9, 5, 9, 1, 8, 4, 8, 5, 13, 14, 1, 0, 6, 5, 12, 9, 15, 16, 8, 0, 6, 15, 11, 5, 12, 18, 12, 1, 14, 16, 5, 18, 13, 16, 8]\n",
            "valid labels: [10, 7, 1, 20, 8, 19, 0, 20, 19, 15, 14, 10, 13, 18, 18, 2, 17, 7, 7, 9, 14, 15, 10, 10, 20, 1, 21, 8, 4, 3, 5, 8, 9, 8, 14, 19, 20, 10, 4, 17, 8, 20, 14, 4, 12, 17, 15, 15, 11, 19, 5, 10, 5, 1, 0, 1, 11, 16, 2, 13, 10, 23, 16, 23, 8, 8, 14, 14, 1, 7, 8, 4, 11, 1, 14, 3, 2, 3, 18, 13, 20, 10, 10, 0, 23, 14, 11, 3, 18, 13, 11, 19, 15, 20, 0, 15, 8, 12, 8, 17, 14, 3, 3, 9, 12, 20, 12, 0, 6, 19, 11, 10, 13, 3, 19, 3, 10, 8, 7, 17, 21, 6, 1, 15, 13, 4, 14, 12, 14, 17, 12, 7, 3, 10, 12, 21, 1, 22, 2, 7, 18, 5, 17, 13, 12, 15, 12, 6, 0, 1, 19, 12, 10, 9, 5, 12, 8, 5, 7, 7, 2, 16, 12, 10, 18, 16, 21, 6, 14, 18, 11, 10, 16, 2, 0, 13, 20, 21, 5, 17, 0, 21, 14, 0, 8, 5, 5, 1, 8, 0, 9, 4, 18, 5, 8, 10, 20, 20, 16, 14, 9, 5, 9, 5, 11, 9, 4, 5, 13, 14, 1, 11, 16, 1, 4, 9, 20, 16, 4, 0, 6, 22, 11, 5, 14, 18, 14, 5, 18, 16, 5, 4, 20, 16, 8]\n",
            "validation loss: 2.427041047177416\n",
            "Accuracy Score = 0.4808510638297872\n",
            "F1 Score (Micro) = 0.4808510638297872\n",
            "F1 Score (Macro) = 0.39382718057185\n"
          ]
        },
        {
          "output_type": "stream",
          "name": "stderr",
          "text": [
            "  0%|          | 1/1717 [00:00<04:15,  6.71it/s]"
          ]
        },
        {
          "output_type": "stream",
          "name": "stdout",
          "text": [
            "Epoch: 1, Loss:  2.435206413269043\n"
          ]
        },
        {
          "output_type": "stream",
          "name": "stderr",
          "text": [
            "100%|██████████| 1717/1717 [09:50<00:00,  2.91it/s]\n"
          ]
        },
        {
          "output_type": "stream",
          "name": "stdout",
          "text": [
            "predict labels: [10, 0, 5, 4, 8, 19, 0, 8, 19, 12, 14, 0, 13, 6, 14, 10, 18, 8, 8, 0, 14, 15, 10, 10, 19, 5, 21, 3, 4, 19, 5, 8, 9, 8, 12, 17, 0, 13, 18, 12, 8, 19, 8, 18, 12, 17, 15, 15, 6, 19, 5, 10, 5, 5, 8, 12, 12, 16, 2, 13, 10, 8, 16, 2, 8, 8, 14, 8, 12, 17, 8, 3, 4, 12, 8, 19, 12, 4, 18, 16, 19, 17, 10, 0, 10, 5, 6, 12, 18, 13, 2, 19, 15, 2, 2, 15, 8, 12, 8, 17, 14, 0, 3, 2, 12, 19, 12, 0, 6, 19, 4, 10, 5, 0, 19, 3, 5, 8, 0, 17, 12, 6, 5, 15, 13, 4, 12, 12, 14, 8, 12, 10, 8, 5, 12, 16, 5, 3, 2, 17, 18, 5, 19, 5, 12, 14, 5, 6, 0, 13, 19, 12, 11, 9, 5, 12, 8, 5, 8, 8, 2, 16, 12, 10, 8, 19, 19, 6, 14, 14, 4, 13, 17, 2, 0, 10, 15, 2, 1, 8, 8, 8, 14, 10, 8, 5, 1, 5, 8, 8, 11, 4, 18, 5, 8, 10, 8, 12, 16, 14, 9, 5, 9, 1, 8, 4, 8, 5, 13, 14, 1, 0, 6, 5, 12, 9, 15, 16, 8, 0, 6, 15, 11, 5, 12, 18, 12, 1, 14, 16, 5, 18, 13, 16, 8]\n",
            "valid labels: [10, 7, 1, 20, 8, 19, 0, 20, 19, 15, 14, 10, 13, 18, 18, 2, 17, 7, 7, 9, 14, 15, 10, 10, 20, 1, 21, 8, 4, 3, 5, 8, 9, 8, 14, 19, 20, 10, 4, 17, 8, 20, 14, 4, 12, 17, 15, 15, 11, 19, 5, 10, 5, 1, 0, 1, 11, 16, 2, 13, 10, 23, 16, 23, 8, 8, 14, 14, 1, 7, 8, 4, 11, 1, 14, 3, 2, 3, 18, 13, 20, 10, 10, 0, 23, 14, 11, 3, 18, 13, 11, 19, 15, 20, 0, 15, 8, 12, 8, 17, 14, 3, 3, 9, 12, 20, 12, 0, 6, 19, 11, 10, 13, 3, 19, 3, 10, 8, 7, 17, 21, 6, 1, 15, 13, 4, 14, 12, 14, 17, 12, 7, 3, 10, 12, 21, 1, 22, 2, 7, 18, 5, 17, 13, 12, 15, 12, 6, 0, 1, 19, 12, 10, 9, 5, 12, 8, 5, 7, 7, 2, 16, 12, 10, 18, 16, 21, 6, 14, 18, 11, 10, 16, 2, 0, 13, 20, 21, 5, 17, 0, 21, 14, 0, 8, 5, 5, 1, 8, 0, 9, 4, 18, 5, 8, 10, 20, 20, 16, 14, 9, 5, 9, 5, 11, 9, 4, 5, 13, 14, 1, 11, 16, 1, 4, 9, 20, 16, 4, 0, 6, 22, 11, 5, 14, 18, 14, 5, 18, 16, 5, 4, 20, 16, 8]\n",
            "validation loss: 2.4249864623901694\n",
            "Accuracy Score = 0.4978723404255319\n",
            "F1 Score (Micro) = 0.4978723404255319\n",
            "F1 Score (Macro) = 0.4163103384134778\n"
          ]
        },
        {
          "output_type": "stream",
          "name": "stderr",
          "text": [
            "  0%|          | 1/1717 [00:00<04:24,  6.48it/s]"
          ]
        },
        {
          "output_type": "stream",
          "name": "stdout",
          "text": [
            "Epoch: 2, Loss:  2.3679656982421875\n"
          ]
        },
        {
          "output_type": "stream",
          "name": "stderr",
          "text": [
            "100%|██████████| 1717/1717 [09:50<00:00,  2.91it/s]\n"
          ]
        },
        {
          "output_type": "stream",
          "name": "stdout",
          "text": [
            "predict labels: [10, 0, 5, 4, 8, 19, 0, 8, 19, 12, 14, 0, 13, 6, 14, 10, 18, 8, 8, 0, 14, 15, 10, 10, 19, 5, 21, 3, 4, 19, 5, 8, 9, 8, 12, 8, 0, 13, 18, 12, 8, 19, 8, 18, 12, 17, 15, 15, 6, 19, 5, 10, 5, 5, 8, 12, 12, 16, 2, 13, 10, 8, 16, 2, 8, 8, 14, 8, 13, 17, 8, 5, 4, 1, 8, 19, 12, 4, 18, 16, 19, 17, 10, 0, 10, 5, 6, 12, 18, 13, 2, 19, 15, 2, 2, 15, 8, 12, 8, 17, 14, 0, 3, 2, 12, 19, 12, 0, 6, 19, 4, 10, 5, 0, 19, 0, 5, 8, 0, 17, 12, 6, 5, 15, 13, 4, 12, 12, 14, 8, 12, 10, 8, 5, 12, 16, 5, 3, 2, 17, 18, 5, 19, 5, 12, 14, 5, 6, 0, 13, 19, 12, 11, 9, 5, 12, 8, 5, 8, 8, 2, 16, 12, 10, 8, 19, 19, 6, 14, 14, 4, 13, 17, 2, 0, 10, 15, 2, 1, 8, 8, 8, 14, 10, 8, 5, 1, 10, 8, 8, 11, 10, 18, 5, 7, 10, 8, 12, 17, 14, 9, 5, 9, 1, 8, 4, 8, 5, 13, 14, 1, 0, 6, 5, 12, 9, 15, 16, 15, 0, 6, 15, 11, 5, 12, 18, 12, 1, 14, 16, 15, 4, 13, 16, 8]\n",
            "valid labels: [10, 7, 1, 20, 8, 19, 0, 20, 19, 15, 14, 10, 13, 18, 18, 2, 17, 7, 7, 9, 14, 15, 10, 10, 20, 1, 21, 8, 4, 3, 5, 8, 9, 8, 14, 19, 20, 10, 4, 17, 8, 20, 14, 4, 12, 17, 15, 15, 11, 19, 5, 10, 5, 1, 0, 1, 11, 16, 2, 13, 10, 23, 16, 23, 8, 8, 14, 14, 1, 7, 8, 4, 11, 1, 14, 3, 2, 3, 18, 13, 20, 10, 10, 0, 23, 14, 11, 3, 18, 13, 11, 19, 15, 20, 0, 15, 8, 12, 8, 17, 14, 3, 3, 9, 12, 20, 12, 0, 6, 19, 11, 10, 13, 3, 19, 3, 10, 8, 7, 17, 21, 6, 1, 15, 13, 4, 14, 12, 14, 17, 12, 7, 3, 10, 12, 21, 1, 22, 2, 7, 18, 5, 17, 13, 12, 15, 12, 6, 0, 1, 19, 12, 10, 9, 5, 12, 8, 5, 7, 7, 2, 16, 12, 10, 18, 16, 21, 6, 14, 18, 11, 10, 16, 2, 0, 13, 20, 21, 5, 17, 0, 21, 14, 0, 8, 5, 5, 1, 8, 0, 9, 4, 18, 5, 8, 10, 20, 20, 16, 14, 9, 5, 9, 5, 11, 9, 4, 5, 13, 14, 1, 11, 16, 1, 4, 9, 20, 16, 4, 0, 6, 22, 11, 5, 14, 18, 14, 5, 18, 16, 5, 4, 20, 16, 8]\n",
            "validation loss: 2.425369882203163\n",
            "Accuracy Score = 0.4851063829787234\n",
            "F1 Score (Micro) = 0.4851063829787234\n",
            "F1 Score (Macro) = 0.4060595709831391\n"
          ]
        },
        {
          "output_type": "stream",
          "name": "stderr",
          "text": [
            "  0%|          | 1/1717 [00:00<03:55,  7.29it/s]"
          ]
        },
        {
          "output_type": "stream",
          "name": "stdout",
          "text": [
            "Epoch: 3, Loss:  2.4489591121673584\n"
          ]
        },
        {
          "output_type": "stream",
          "name": "stderr",
          "text": [
            "100%|██████████| 1717/1717 [09:50<00:00,  2.91it/s]\n"
          ]
        },
        {
          "output_type": "stream",
          "name": "stdout",
          "text": [
            "predict labels: [10, 0, 5, 4, 8, 19, 0, 8, 19, 15, 14, 0, 13, 6, 14, 10, 18, 8, 8, 0, 14, 15, 10, 10, 19, 5, 21, 3, 4, 19, 5, 8, 9, 8, 12, 8, 0, 13, 18, 12, 8, 19, 8, 18, 12, 17, 15, 15, 6, 19, 5, 10, 5, 1, 8, 12, 10, 16, 2, 13, 10, 8, 16, 2, 8, 8, 14, 7, 13, 17, 8, 5, 4, 1, 8, 19, 12, 4, 18, 16, 19, 17, 10, 0, 10, 5, 6, 12, 18, 13, 2, 19, 15, 2, 2, 15, 8, 12, 8, 17, 14, 0, 3, 2, 12, 19, 12, 0, 6, 19, 4, 10, 5, 0, 19, 3, 5, 8, 0, 17, 12, 6, 5, 15, 13, 4, 12, 12, 14, 8, 12, 10, 8, 5, 12, 16, 5, 3, 2, 17, 18, 5, 19, 5, 12, 14, 5, 6, 0, 13, 19, 12, 11, 9, 5, 12, 8, 5, 8, 8, 2, 16, 12, 10, 8, 19, 19, 6, 14, 14, 4, 13, 17, 2, 0, 10, 15, 2, 1, 8, 8, 8, 14, 10, 8, 1, 1, 10, 8, 8, 11, 10, 18, 5, 7, 10, 8, 12, 17, 14, 9, 5, 9, 1, 8, 4, 8, 5, 13, 14, 1, 0, 6, 5, 12, 9, 15, 16, 8, 0, 6, 15, 11, 5, 12, 18, 12, 1, 14, 16, 5, 4, 13, 16, 8]\n",
            "valid labels: [10, 7, 1, 20, 8, 19, 0, 20, 19, 15, 14, 10, 13, 18, 18, 2, 17, 7, 7, 9, 14, 15, 10, 10, 20, 1, 21, 8, 4, 3, 5, 8, 9, 8, 14, 19, 20, 10, 4, 17, 8, 20, 14, 4, 12, 17, 15, 15, 11, 19, 5, 10, 5, 1, 0, 1, 11, 16, 2, 13, 10, 23, 16, 23, 8, 8, 14, 14, 1, 7, 8, 4, 11, 1, 14, 3, 2, 3, 18, 13, 20, 10, 10, 0, 23, 14, 11, 3, 18, 13, 11, 19, 15, 20, 0, 15, 8, 12, 8, 17, 14, 3, 3, 9, 12, 20, 12, 0, 6, 19, 11, 10, 13, 3, 19, 3, 10, 8, 7, 17, 21, 6, 1, 15, 13, 4, 14, 12, 14, 17, 12, 7, 3, 10, 12, 21, 1, 22, 2, 7, 18, 5, 17, 13, 12, 15, 12, 6, 0, 1, 19, 12, 10, 9, 5, 12, 8, 5, 7, 7, 2, 16, 12, 10, 18, 16, 21, 6, 14, 18, 11, 10, 16, 2, 0, 13, 20, 21, 5, 17, 0, 21, 14, 0, 8, 5, 5, 1, 8, 0, 9, 4, 18, 5, 8, 10, 20, 20, 16, 14, 9, 5, 9, 5, 11, 9, 4, 5, 13, 14, 1, 11, 16, 1, 4, 9, 20, 16, 4, 0, 6, 22, 11, 5, 14, 18, 14, 5, 18, 16, 5, 4, 20, 16, 8]\n",
            "validation loss: 2.422502706913238\n",
            "Accuracy Score = 0.4978723404255319\n",
            "F1 Score (Micro) = 0.4978723404255319\n",
            "F1 Score (Macro) = 0.4234124297185442\n"
          ]
        },
        {
          "output_type": "stream",
          "name": "stderr",
          "text": [
            "  0%|          | 1/1717 [00:00<03:52,  7.39it/s]"
          ]
        },
        {
          "output_type": "stream",
          "name": "stdout",
          "text": [
            "Epoch: 4, Loss:  2.469048500061035\n"
          ]
        },
        {
          "output_type": "stream",
          "name": "stderr",
          "text": [
            "100%|██████████| 1717/1717 [09:50<00:00,  2.91it/s]\n"
          ]
        },
        {
          "output_type": "stream",
          "name": "stdout",
          "text": [
            "predict labels: [10, 0, 5, 4, 8, 19, 0, 8, 19, 15, 14, 0, 13, 6, 14, 10, 18, 8, 12, 0, 14, 15, 10, 10, 19, 5, 21, 11, 4, 19, 5, 15, 9, 8, 12, 8, 0, 13, 18, 12, 8, 19, 8, 18, 12, 17, 15, 15, 6, 19, 5, 10, 5, 1, 8, 12, 10, 16, 2, 13, 10, 8, 16, 2, 8, 8, 14, 8, 12, 17, 8, 5, 4, 1, 8, 19, 12, 4, 18, 16, 19, 17, 10, 0, 10, 5, 6, 12, 18, 13, 2, 19, 15, 2, 2, 15, 8, 12, 8, 17, 14, 0, 3, 2, 12, 19, 12, 0, 6, 19, 4, 10, 5, 0, 19, 3, 5, 8, 0, 17, 12, 6, 5, 15, 13, 4, 12, 12, 14, 17, 12, 10, 14, 5, 12, 16, 5, 3, 2, 17, 18, 5, 19, 5, 12, 14, 5, 6, 0, 13, 19, 12, 11, 9, 5, 12, 8, 5, 8, 8, 2, 16, 12, 10, 8, 19, 19, 6, 14, 14, 4, 13, 17, 2, 0, 10, 15, 2, 1, 8, 8, 8, 14, 10, 8, 1, 5, 10, 8, 8, 11, 10, 18, 5, 7, 0, 8, 12, 17, 14, 9, 5, 9, 1, 8, 4, 8, 5, 13, 14, 1, 0, 6, 5, 12, 9, 15, 16, 15, 0, 6, 15, 11, 5, 12, 18, 12, 1, 14, 16, 5, 4, 13, 16, 8]\n",
            "valid labels: [10, 7, 1, 20, 8, 19, 0, 20, 19, 15, 14, 10, 13, 18, 18, 2, 17, 7, 7, 9, 14, 15, 10, 10, 20, 1, 21, 8, 4, 3, 5, 8, 9, 8, 14, 19, 20, 10, 4, 17, 8, 20, 14, 4, 12, 17, 15, 15, 11, 19, 5, 10, 5, 1, 0, 1, 11, 16, 2, 13, 10, 23, 16, 23, 8, 8, 14, 14, 1, 7, 8, 4, 11, 1, 14, 3, 2, 3, 18, 13, 20, 10, 10, 0, 23, 14, 11, 3, 18, 13, 11, 19, 15, 20, 0, 15, 8, 12, 8, 17, 14, 3, 3, 9, 12, 20, 12, 0, 6, 19, 11, 10, 13, 3, 19, 3, 10, 8, 7, 17, 21, 6, 1, 15, 13, 4, 14, 12, 14, 17, 12, 7, 3, 10, 12, 21, 1, 22, 2, 7, 18, 5, 17, 13, 12, 15, 12, 6, 0, 1, 19, 12, 10, 9, 5, 12, 8, 5, 7, 7, 2, 16, 12, 10, 18, 16, 21, 6, 14, 18, 11, 10, 16, 2, 0, 13, 20, 21, 5, 17, 0, 21, 14, 0, 8, 5, 5, 1, 8, 0, 9, 4, 18, 5, 8, 10, 20, 20, 16, 14, 9, 5, 9, 5, 11, 9, 4, 5, 13, 14, 1, 11, 16, 1, 4, 9, 20, 16, 4, 0, 6, 22, 11, 5, 14, 18, 14, 5, 18, 16, 5, 4, 20, 16, 8]\n",
            "validation loss: 2.4215985074956365\n",
            "Accuracy Score = 0.4978723404255319\n",
            "F1 Score (Micro) = 0.4978723404255319\n",
            "F1 Score (Macro) = 0.42334336281464324\n"
          ]
        },
        {
          "output_type": "stream",
          "name": "stderr",
          "text": [
            "  0%|          | 1/1717 [00:00<04:37,  6.19it/s]"
          ]
        },
        {
          "output_type": "stream",
          "name": "stdout",
          "text": [
            "Epoch: 5, Loss:  2.3205928802490234\n"
          ]
        },
        {
          "output_type": "stream",
          "name": "stderr",
          "text": [
            "100%|██████████| 1717/1717 [09:50<00:00,  2.91it/s]\n"
          ]
        },
        {
          "output_type": "stream",
          "name": "stdout",
          "text": [
            "predict labels: [10, 0, 5, 4, 8, 19, 0, 8, 19, 15, 14, 0, 13, 6, 14, 10, 18, 8, 8, 0, 14, 15, 10, 10, 19, 5, 21, 11, 4, 19, 5, 15, 15, 8, 12, 8, 0, 13, 18, 12, 8, 19, 21, 18, 12, 17, 15, 15, 6, 19, 5, 10, 5, 1, 8, 12, 10, 16, 2, 13, 10, 8, 16, 2, 8, 8, 14, 7, 13, 17, 8, 1, 4, 1, 8, 19, 12, 4, 18, 16, 19, 17, 10, 0, 10, 5, 6, 12, 18, 13, 2, 19, 15, 2, 2, 15, 8, 12, 8, 17, 14, 0, 3, 2, 12, 19, 12, 0, 6, 19, 4, 10, 5, 0, 19, 3, 5, 8, 0, 17, 12, 6, 5, 15, 13, 4, 12, 12, 14, 8, 12, 10, 14, 5, 12, 16, 5, 3, 2, 17, 18, 5, 19, 5, 12, 14, 5, 6, 0, 13, 19, 12, 11, 9, 5, 12, 8, 5, 8, 8, 2, 16, 12, 12, 8, 19, 19, 6, 14, 14, 4, 13, 17, 2, 0, 10, 15, 2, 1, 8, 8, 8, 14, 10, 8, 1, 5, 5, 8, 8, 11, 10, 18, 5, 7, 0, 8, 12, 17, 14, 9, 5, 9, 1, 8, 4, 8, 5, 13, 14, 1, 0, 6, 5, 12, 9, 15, 16, 15, 0, 6, 15, 11, 5, 12, 18, 12, 1, 14, 16, 5, 4, 13, 16, 8]\n",
            "valid labels: [10, 7, 1, 20, 8, 19, 0, 20, 19, 15, 14, 10, 13, 18, 18, 2, 17, 7, 7, 9, 14, 15, 10, 10, 20, 1, 21, 8, 4, 3, 5, 8, 9, 8, 14, 19, 20, 10, 4, 17, 8, 20, 14, 4, 12, 17, 15, 15, 11, 19, 5, 10, 5, 1, 0, 1, 11, 16, 2, 13, 10, 23, 16, 23, 8, 8, 14, 14, 1, 7, 8, 4, 11, 1, 14, 3, 2, 3, 18, 13, 20, 10, 10, 0, 23, 14, 11, 3, 18, 13, 11, 19, 15, 20, 0, 15, 8, 12, 8, 17, 14, 3, 3, 9, 12, 20, 12, 0, 6, 19, 11, 10, 13, 3, 19, 3, 10, 8, 7, 17, 21, 6, 1, 15, 13, 4, 14, 12, 14, 17, 12, 7, 3, 10, 12, 21, 1, 22, 2, 7, 18, 5, 17, 13, 12, 15, 12, 6, 0, 1, 19, 12, 10, 9, 5, 12, 8, 5, 7, 7, 2, 16, 12, 10, 18, 16, 21, 6, 14, 18, 11, 10, 16, 2, 0, 13, 20, 21, 5, 17, 0, 21, 14, 0, 8, 5, 5, 1, 8, 0, 9, 4, 18, 5, 8, 10, 20, 20, 16, 14, 9, 5, 9, 5, 11, 9, 4, 5, 13, 14, 1, 11, 16, 1, 4, 9, 20, 16, 4, 0, 6, 22, 11, 5, 14, 18, 14, 5, 18, 16, 5, 4, 20, 16, 8]\n",
            "validation loss: 2.421636328925478\n",
            "Accuracy Score = 0.4851063829787234\n",
            "F1 Score (Micro) = 0.4851063829787234\n",
            "F1 Score (Macro) = 0.4098250624445627\n"
          ]
        },
        {
          "output_type": "stream",
          "name": "stderr",
          "text": [
            "  0%|          | 1/1717 [00:00<03:50,  7.44it/s]"
          ]
        },
        {
          "output_type": "stream",
          "name": "stdout",
          "text": [
            "Epoch: 6, Loss:  2.198467493057251\n"
          ]
        },
        {
          "output_type": "stream",
          "name": "stderr",
          "text": [
            "100%|██████████| 1717/1717 [09:50<00:00,  2.91it/s]\n"
          ]
        },
        {
          "output_type": "stream",
          "name": "stdout",
          "text": [
            "predict labels: [10, 0, 5, 4, 8, 19, 0, 8, 19, 15, 14, 0, 13, 6, 14, 10, 18, 8, 12, 0, 14, 15, 10, 10, 19, 5, 21, 11, 4, 19, 5, 15, 15, 5, 12, 3, 0, 13, 18, 12, 8, 19, 21, 18, 12, 17, 15, 15, 6, 19, 13, 10, 5, 1, 8, 12, 10, 16, 2, 13, 10, 8, 16, 2, 8, 8, 14, 7, 13, 17, 8, 3, 4, 1, 8, 19, 12, 4, 18, 16, 19, 17, 10, 0, 10, 5, 6, 12, 18, 13, 2, 19, 15, 2, 2, 15, 8, 12, 8, 17, 14, 0, 3, 2, 12, 19, 12, 0, 6, 19, 4, 10, 5, 0, 19, 3, 5, 8, 0, 17, 12, 6, 5, 15, 13, 4, 12, 12, 14, 17, 12, 10, 14, 5, 12, 16, 5, 3, 2, 17, 18, 5, 19, 5, 12, 14, 5, 6, 0, 13, 19, 12, 11, 9, 5, 12, 11, 5, 8, 8, 2, 16, 12, 12, 8, 19, 19, 6, 14, 14, 4, 13, 17, 2, 0, 10, 15, 2, 1, 8, 8, 8, 14, 10, 8, 1, 5, 5, 8, 8, 11, 4, 18, 5, 7, 0, 8, 12, 17, 14, 9, 5, 9, 5, 8, 12, 8, 5, 13, 14, 1, 0, 6, 5, 12, 9, 15, 16, 15, 0, 6, 15, 11, 5, 12, 18, 12, 1, 14, 16, 5, 4, 13, 16, 8]\n",
            "valid labels: [10, 7, 1, 20, 8, 19, 0, 20, 19, 15, 14, 10, 13, 18, 18, 2, 17, 7, 7, 9, 14, 15, 10, 10, 20, 1, 21, 8, 4, 3, 5, 8, 9, 8, 14, 19, 20, 10, 4, 17, 8, 20, 14, 4, 12, 17, 15, 15, 11, 19, 5, 10, 5, 1, 0, 1, 11, 16, 2, 13, 10, 23, 16, 23, 8, 8, 14, 14, 1, 7, 8, 4, 11, 1, 14, 3, 2, 3, 18, 13, 20, 10, 10, 0, 23, 14, 11, 3, 18, 13, 11, 19, 15, 20, 0, 15, 8, 12, 8, 17, 14, 3, 3, 9, 12, 20, 12, 0, 6, 19, 11, 10, 13, 3, 19, 3, 10, 8, 7, 17, 21, 6, 1, 15, 13, 4, 14, 12, 14, 17, 12, 7, 3, 10, 12, 21, 1, 22, 2, 7, 18, 5, 17, 13, 12, 15, 12, 6, 0, 1, 19, 12, 10, 9, 5, 12, 8, 5, 7, 7, 2, 16, 12, 10, 18, 16, 21, 6, 14, 18, 11, 10, 16, 2, 0, 13, 20, 21, 5, 17, 0, 21, 14, 0, 8, 5, 5, 1, 8, 0, 9, 4, 18, 5, 8, 10, 20, 20, 16, 14, 9, 5, 9, 5, 11, 9, 4, 5, 13, 14, 1, 11, 16, 1, 4, 9, 20, 16, 4, 0, 6, 22, 11, 5, 14, 18, 14, 5, 18, 16, 5, 4, 20, 16, 8]\n",
            "validation loss: 2.4248814066673847\n",
            "Accuracy Score = 0.4851063829787234\n",
            "F1 Score (Micro) = 0.4851063829787234\n",
            "F1 Score (Macro) = 0.41352610778031934\n"
          ]
        },
        {
          "output_type": "stream",
          "name": "stderr",
          "text": [
            "  0%|          | 1/1717 [00:00<03:49,  7.49it/s]"
          ]
        },
        {
          "output_type": "stream",
          "name": "stdout",
          "text": [
            "Epoch: 7, Loss:  2.316868782043457\n"
          ]
        },
        {
          "output_type": "stream",
          "name": "stderr",
          "text": [
            "  2%|▏         | 40/1717 [00:13<09:37,  2.91it/s]\n"
          ]
        },
        {
          "output_type": "error",
          "ename": "KeyboardInterrupt",
          "evalue": "ignored",
          "traceback": [
            "\u001b[0;31m---------------------------------------------------------------------------\u001b[0m",
            "\u001b[0;31mKeyboardInterrupt\u001b[0m                         Traceback (most recent call last)",
            "\u001b[0;32m<ipython-input-12-f513f3541e3a>\u001b[0m in \u001b[0;36m<cell line: 1>\u001b[0;34m()\u001b[0m\n\u001b[1;32m      1\u001b[0m \u001b[0;32mfor\u001b[0m \u001b[0mepoch\u001b[0m \u001b[0;32min\u001b[0m \u001b[0mrange\u001b[0m\u001b[0;34m(\u001b[0m\u001b[0mEPOCHS\u001b[0m\u001b[0;34m)\u001b[0m\u001b[0;34m:\u001b[0m\u001b[0;34m\u001b[0m\u001b[0;34m\u001b[0m\u001b[0m\n\u001b[1;32m      2\u001b[0m \u001b[0;34m\u001b[0m\u001b[0m\n\u001b[0;32m----> 3\u001b[0;31m     \u001b[0mtrain_model\u001b[0m\u001b[0;34m(\u001b[0m\u001b[0mepoch\u001b[0m\u001b[0;34m)\u001b[0m\u001b[0;34m\u001b[0m\u001b[0;34m\u001b[0m\u001b[0m\n\u001b[0m\u001b[1;32m      4\u001b[0m     \u001b[0mvalidation\u001b[0m\u001b[0;34m(\u001b[0m\u001b[0;34m)\u001b[0m\u001b[0;34m\u001b[0m\u001b[0;34m\u001b[0m\u001b[0m\n",
            "\u001b[0;32m<ipython-input-8-15ad7d14a39e>\u001b[0m in \u001b[0;36mtrain_model\u001b[0;34m(epoch)\u001b[0m\n\u001b[1;32m      4\u001b[0m     \u001b[0mmodel\u001b[0m\u001b[0;34m.\u001b[0m\u001b[0mtrain\u001b[0m\u001b[0;34m(\u001b[0m\u001b[0;34m)\u001b[0m\u001b[0;34m\u001b[0m\u001b[0;34m\u001b[0m\u001b[0m\n\u001b[1;32m      5\u001b[0m     \u001b[0;32mfor\u001b[0m \u001b[0m_\u001b[0m\u001b[0;34m,\u001b[0m\u001b[0mdata\u001b[0m \u001b[0;32min\u001b[0m \u001b[0menumerate\u001b[0m\u001b[0;34m(\u001b[0m\u001b[0mtqdm\u001b[0m\u001b[0;34m(\u001b[0m\u001b[0mtraining_loader\u001b[0m\u001b[0;34m,\u001b[0m \u001b[0;36m0\u001b[0m\u001b[0;34m)\u001b[0m\u001b[0;34m)\u001b[0m\u001b[0;34m:\u001b[0m\u001b[0;34m\u001b[0m\u001b[0;34m\u001b[0m\u001b[0m\n\u001b[0;32m----> 6\u001b[0;31m         \u001b[0mids\u001b[0m \u001b[0;34m=\u001b[0m \u001b[0mdata\u001b[0m\u001b[0;34m[\u001b[0m\u001b[0;34m'ids'\u001b[0m\u001b[0;34m]\u001b[0m\u001b[0;34m.\u001b[0m\u001b[0mto\u001b[0m\u001b[0;34m(\u001b[0m\u001b[0mdevice\u001b[0m\u001b[0;34m,\u001b[0m \u001b[0mdtype\u001b[0m \u001b[0;34m=\u001b[0m \u001b[0mtorch\u001b[0m\u001b[0;34m.\u001b[0m\u001b[0mlong\u001b[0m\u001b[0;34m)\u001b[0m\u001b[0;34m\u001b[0m\u001b[0;34m\u001b[0m\u001b[0m\n\u001b[0m\u001b[1;32m      7\u001b[0m         \u001b[0mmask\u001b[0m \u001b[0;34m=\u001b[0m \u001b[0mdata\u001b[0m\u001b[0;34m[\u001b[0m\u001b[0;34m'mask'\u001b[0m\u001b[0;34m]\u001b[0m\u001b[0;34m.\u001b[0m\u001b[0mto\u001b[0m\u001b[0;34m(\u001b[0m\u001b[0mdevice\u001b[0m\u001b[0;34m,\u001b[0m \u001b[0mdtype\u001b[0m \u001b[0;34m=\u001b[0m \u001b[0mtorch\u001b[0m\u001b[0;34m.\u001b[0m\u001b[0mlong\u001b[0m\u001b[0;34m)\u001b[0m\u001b[0;34m\u001b[0m\u001b[0;34m\u001b[0m\u001b[0m\n\u001b[1;32m      8\u001b[0m         \u001b[0;31m# token_type_ids = data['token_type_ids'].to(device, dtype = torch.long)\u001b[0m\u001b[0;34m\u001b[0m\u001b[0;34m\u001b[0m\u001b[0m\n",
            "\u001b[0;31mKeyboardInterrupt\u001b[0m: "
          ]
        }
      ]
    },
    {
      "cell_type": "code",
      "source": [
        "import matplotlib.pyplot as plt\n",
        "\n",
        "x = range(len(training_loss))\n",
        "plt.plot(x, training_loss, label=\"train\")\n",
        "plt.plot(x, validation_loss, label=\"valid\")\n",
        "plt.xlabel('epoch')\n",
        "plt.ylabel('loss')\n",
        "plt.legend()\n"
      ],
      "metadata": {
        "colab": {
          "base_uri": "https://localhost:8080/",
          "height": 467
        },
        "id": "c8wG6Gc_dd3a",
        "outputId": "14598e3a-4d17-49a9-8c5d-56b71914886f"
      },
      "execution_count": 14,
      "outputs": [
        {
          "output_type": "execute_result",
          "data": {
            "text/plain": [
              "<matplotlib.legend.Legend at 0x7d4ee977e8c0>"
            ]
          },
          "metadata": {},
          "execution_count": 14
        },
        {
          "output_type": "display_data",
          "data": {
            "text/plain": [
              "<Figure size 640x480 with 1 Axes>"
            ],
            "image/png": "[encoded data removed]"
          },
          "metadata": {}
        }
      ]
    },
    {
      "cell_type": "code",
      "source": [
        "from collections import Counter\n",
        "\n",
        "def test_result():\n",
        "  model.eval()\n",
        "  predict_labels=[]\n",
        "  test_labels = []\n",
        "  total_loss = 0.0\n",
        "  loss_count = 0\n",
        "  with torch.no_grad():\n",
        "    for job, category in zip(test[0],test[1]):\n",
        "      if not job:\n",
        "        continue\n",
        "      test_labels.append(category)\n",
        "      inputs = tokenizer(job, padding=\"max_length\", truncation=True, max_length=MAX_LEN)\n",
        "      ids = inputs['input_ids']\n",
        "      mask = inputs['attention_mask']\n",
        "\n",
        "      ids = torch.tensor(ids, dtype=torch.long).to(device)\n",
        "      mask = torch.tensor(mask, dtype=torch.long).to(device)\n",
        "\n",
        "\n",
        "\n",
        "      output = model(ids, mask)\n",
        "\n",
        "      output = torch.mode(torch.argmax(output, dim=1))[0].cpu().item()\n",
        "      predict_labels.append(output)\n",
        "\n",
        "    print(f\"predict labels: {predict_labels}\")\n",
        "    print(f\"test labels: {test_labels}\" )\n",
        "\n",
        "\n",
        "    accuracy = metrics.accuracy_score(test_labels, predict_labels)\n",
        "    f1_score_micro = metrics.f1_score(test_labels, predict_labels, average='micro')\n",
        "    f1_score_macro = metrics.f1_score(test_labels, predict_labels, average='macro')\n",
        "    print(f\"Accuracy Score = {accuracy}\")\n",
        "    print(f\"F1 Score (Micro) = {f1_score_micro}\")\n",
        "    print(f\"F1 Score (Macro) = {f1_score_macro}\")\n",
        "\n",
        "test_result()"
      ],
      "metadata": {
        "id": "ANyVyN260Tqp",
        "colab": {
          "base_uri": "https://localhost:8080/"
        },
        "outputId": "20db07fc-4234-4ddd-dc7d-f691a7294184"
      },
      "execution_count": 19,
      "outputs": [
        {
          "output_type": "stream",
          "name": "stdout",
          "text": [
            "predict labels: [16, 11, 3, 19, 14, 11, 14, 3, 16, 0, 3, 6, 2, 0, 8, 8, 11, 13, 14, 16, 4, 16, 2, 5, 2, 12, 9, 5, 15, 18, 18, 11, 2, 8, 13, 13, 13, 12, 8, 11, 15, 5, 3, 6, 9, 16, 5, 19, 11, 12, 18, 18, 8, 3, 0, 19, 8, 14, 18, 10, 13, 8, 3, 16, 0, 6, 8, 0, 11, 8, 11, 2, 12, 14, 19, 3, 11, 15, 3, 10, 8, 16, 11, 8, 1, 21, 14, 4, 14, 16, 3, 5, 8, 10, 5, 0, 9, 10, 19, 6, 5, 15, 1, 10, 12, 3, 2, 0, 8, 8, 1, 2, 19, 13, 10, 13, 9, 14, 17, 6, 5, 9, 15, 14, 10, 8, 0, 8, 0, 8, 2, 15, 19, 5, 10, 10, 5, 2, 12, 0, 19, 12, 2, 3, 15, 16, 15, 15, 16, 14, 0, 8, 6, 3, 19, 8, 10, 2, 11, 8, 18, 8, 19, 13, 18, 16, 19, 15, 3, 2, 6, 18, 2, 13, 12, 3, 5, 11, 8, 2, 16, 0, 2, 19, 3, 8, 10, 8, 8, 15, 8, 18, 8, 8, 15, 19, 10, 13, 19, 14, 6, 8, 12, 4, 12, 19, 4, 6, 8, 18, 2, 5, 16, 12, 16, 12, 5, 18, 2, 11, 5, 19, 15, 15, 4, 12, 17, 12, 6, 0, 12, 9, 3, 9]\n",
            "test labels: [16, 10, 8, 19, 14, 11, 15, 3, 16, 0, 3, 11, 2, 3, 8, 8, 9, 12, 15, 16, 4, 20, 2, 1, 13, 12, 9, 7, 15, 18, 18, 4, 2, 14, 10, 13, 7, 11, 15, 4, 15, 1, 10, 6, 9, 20, 1, 19, 16, 12, 18, 18, 8, 3, 5, 20, 8, 14, 16, 10, 22, 8, 22, 16, 0, 6, 8, 4, 3, 8, 4, 2, 12, 14, 19, 8, 12, 15, 13, 10, 8, 16, 11, 12, 1, 21, 14, 5, 14, 16, 3, 5, 8, 17, 5, 6, 0, 10, 3, 6, 1, 15, 5, 10, 4, 3, 22, 15, 0, 8, 1, 2, 19, 21, 19, 13, 9, 7, 17, 6, 5, 9, 15, 15, 11, 7, 3, 7, 3, 14, 2, 15, 20, 5, 3, 10, 5, 2, 12, 0, 19, 20, 2, 1, 7, 17, 15, 15, 16, 14, 3, 8, 6, 10, 20, 22, 7, 8, 6, 8, 18, 14, 19, 10, 20, 16, 19, 6, 3, 2, 6, 4, 22, 13, 12, 2, 4, 7, 13, 2, 16, 11, 2, 19, 6, 8, 10, 23, 8, 15, 13, 18, 13, 13, 15, 19, 10, 13, 19, 14, 6, 5, 12, 11, 3, 20, 0, 6, 23, 18, 2, 5, 16, 21, 16, 12, 5, 18, 1, 0, 1, 19, 15, 15, 4, 12, 4, 12, 6, 17, 12, 9, 22, 13]\n",
            "Accuracy Score = 0.5726495726495726\n",
            "F1 Score (Micro) = 0.5726495726495726\n",
            "F1 Score (Macro) = 0.47512431193248034\n"
          ]
        }
      ]
    }
  ]
}